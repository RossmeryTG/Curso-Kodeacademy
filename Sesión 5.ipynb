{
  "nbformat": 4,
  "nbformat_minor": 0,
  "metadata": {
    "colab": {
      "name": "Untitled2.ipynb",
      "provenance": [],
      "authorship_tag": "ABX9TyMxHCUq17voofG1yMULKxGW",
      "include_colab_link": true
    },
    "kernelspec": {
      "name": "python3",
      "display_name": "Python 3"
    },
    "language_info": {
      "name": "python"
    }
  },
  "cells": [
    {
      "cell_type": "markdown",
      "metadata": {
        "id": "view-in-github",
        "colab_type": "text"
      },
      "source": [
        "<a href=\"https://colab.research.google.com/github/RossmeryTG/Curso_Phyton/blob/main/Sesi%C3%B3n%205.ipynb\" target=\"_parent\"><img src=\"https://colab.research.google.com/assets/colab-badge.svg\" alt=\"Open In Colab\"/></a>"
      ]
    },
    {
      "cell_type": "markdown",
      "metadata": {
        "id": "6eEC-RrCxAh_"
      },
      "source": [
        "String to Datetime"
      ]
    },
    {
      "cell_type": "code",
      "metadata": {
        "id": "S7HAfixMxbVU"
      },
      "source": [
        "import datetime as dt"
      ],
      "execution_count": 3,
      "outputs": []
    },
    {
      "cell_type": "code",
      "metadata": {
        "colab": {
          "base_uri": "https://localhost:8080/"
        },
        "id": "HYyVyMcgw8OU",
        "outputId": "5aa63f79-0863-4880-f0f1-3351ee009e17"
      },
      "source": [
        "#uso de dt.datetime.strptime()\n",
        "str_date = \"18-07-1994\"\n",
        "print(type(str_date))\n",
        "str_date2 = dt.datetime.strptime(str_date,\"%d-%m-%Y\") #comparte el \"-\"\n",
        "print(str_date2)\n",
        "type(str_date2)"
      ],
      "execution_count": 7,
      "outputs": [
        {
          "output_type": "stream",
          "text": [
            "<class 'str'>\n",
            "1994-07-18 00:00:00\n"
          ],
          "name": "stdout"
        },
        {
          "output_type": "execute_result",
          "data": {
            "text/plain": [
              "datetime.datetime"
            ]
          },
          "metadata": {
            "tags": []
          },
          "execution_count": 7
        }
      ]
    },
    {
      "cell_type": "code",
      "metadata": {
        "colab": {
          "base_uri": "https://localhost:8080/"
        },
        "id": "YDdg8z_k-N4-",
        "outputId": "f9b11cb2-5faf-4fd4-92aa-caa5c30466a1"
      },
      "source": [
        "#uso de dt.datetime.strptime()\n",
        "str_date = \"18/07-1994\"\n",
        "print(type(str_date))\n",
        "str_date2 = dt.datetime.strptime(str_date,\"%d/%m-%Y\") #comparte el \"-\" ambos tienen que tener la misma estructura\n",
        "print(str_date2)\n",
        "type(str_date2)"
      ],
      "execution_count": 8,
      "outputs": [
        {
          "output_type": "stream",
          "text": [
            "<class 'str'>\n",
            "1994-07-18 00:00:00\n"
          ],
          "name": "stdout"
        },
        {
          "output_type": "execute_result",
          "data": {
            "text/plain": [
              "datetime.datetime"
            ]
          },
          "metadata": {
            "tags": []
          },
          "execution_count": 8
        }
      ]
    },
    {
      "cell_type": "code",
      "metadata": {
        "colab": {
          "base_uri": "https://localhost:8080/"
        },
        "id": "7tqFO2me-c7_",
        "outputId": "6a49f1a4-fd7d-4778-b4f8-3eb715ff6adc"
      },
      "source": [
        "#uso de dt.datetime.strptime()\n",
        "str_date = \"18071994\"\n",
        "print(type(str_date))\n",
        "str_date2 = dt.datetime.strptime(str_date,\"%d%m%Y\") #comparte el \"-\"\n",
        "print(str_date2)\n",
        "type(str_date2)"
      ],
      "execution_count": 9,
      "outputs": [
        {
          "output_type": "stream",
          "text": [
            "<class 'str'>\n",
            "1994-07-18 00:00:00\n"
          ],
          "name": "stdout"
        },
        {
          "output_type": "execute_result",
          "data": {
            "text/plain": [
              "datetime.datetime"
            ]
          },
          "metadata": {
            "tags": []
          },
          "execution_count": 9
        }
      ]
    },
    {
      "cell_type": "code",
      "metadata": {
        "colab": {
          "base_uri": "https://localhost:8080/"
        },
        "id": "uFa1IyOfxhba",
        "outputId": "735d4d9a-e832-43ed-982e-63ed79bc1887"
      },
      "source": [
        "str_date = \"18/07/1994\"\n",
        "str_date2 = dt.datetime.strptime(str_date,\"%d/%m/%Y\") #comparte el \"/\"\n",
        "print(str_date2)\n",
        "type(str_date2)"
      ],
      "execution_count": 5,
      "outputs": [
        {
          "output_type": "stream",
          "text": [
            "1994-07-18 00:00:00\n"
          ],
          "name": "stdout"
        },
        {
          "output_type": "execute_result",
          "data": {
            "text/plain": [
              "datetime.datetime"
            ]
          },
          "metadata": {
            "tags": []
          },
          "execution_count": 5
        }
      ]
    },
    {
      "cell_type": "code",
      "metadata": {
        "colab": {
          "base_uri": "https://localhost:8080/"
        },
        "id": "sJ5jBKkq-xLA",
        "outputId": "4c205686-cd7b-49dc-842d-fc808bd4a08f"
      },
      "source": [
        "#uso de dt.datetime.strptime()\n",
        "str_date = \"19940718 201820\"\n",
        "print(type(str_date))\n",
        "str_date2 = dt.datetime.strptime(str_date,\"%Y%m%d %H%M%S\") #comparte el \"-\"\n",
        "print(str_date2)\n",
        "type(str_date2)"
      ],
      "execution_count": 10,
      "outputs": [
        {
          "output_type": "stream",
          "text": [
            "<class 'str'>\n",
            "1994-07-18 20:18:20\n"
          ],
          "name": "stdout"
        },
        {
          "output_type": "execute_result",
          "data": {
            "text/plain": [
              "datetime.datetime"
            ]
          },
          "metadata": {
            "tags": []
          },
          "execution_count": 10
        }
      ]
    },
    {
      "cell_type": "markdown",
      "metadata": {
        "id": "5bQdKCWdxlEW"
      },
      "source": [
        "Datetime to String"
      ]
    },
    {
      "cell_type": "code",
      "metadata": {
        "colab": {
          "base_uri": "https://localhost:8080/"
        },
        "id": "JNr_4irXxmnJ",
        "outputId": "b18dbeda-1e52-498e-ab99-38d477481262"
      },
      "source": [
        "#uso de dt.datetime.strftime()\n",
        "date_str = dt.datetime.strftime(str_date2, \"%Y-%m-%d %H:%M:%S\")\n",
        "print(date_str)\n",
        "type(date_str)"
      ],
      "execution_count": 6,
      "outputs": [
        {
          "output_type": "stream",
          "text": [
            "1994-07-18 00:00:00\n"
          ],
          "name": "stdout"
        },
        {
          "output_type": "execute_result",
          "data": {
            "text/plain": [
              "str"
            ]
          },
          "metadata": {
            "tags": []
          },
          "execution_count": 6
        }
      ]
    },
    {
      "cell_type": "markdown",
      "metadata": {
        "id": "zBliaTnDA6mh"
      },
      "source": [
        "Cadenas (strings)"
      ]
    },
    {
      "cell_type": "code",
      "metadata": {
        "colab": {
          "base_uri": "https://localhost:8080/",
          "height": 35
        },
        "id": "SM0gPItzA-oC",
        "outputId": "788fee61-79dd-40b3-96c3-13f7faaaa0dc"
      },
      "source": [
        "#Ascii to Char\n",
        "chr(123)"
      ],
      "execution_count": 11,
      "outputs": [
        {
          "output_type": "execute_result",
          "data": {
            "application/vnd.google.colaboratory.intrinsic+json": {
              "type": "string"
            },
            "text/plain": [
              "'{'"
            ]
          },
          "metadata": {
            "tags": []
          },
          "execution_count": 11
        }
      ]
    },
    {
      "cell_type": "code",
      "metadata": {
        "colab": {
          "base_uri": "https://localhost:8080/"
        },
        "id": "H2UcujsBBBVP",
        "outputId": "27c10a78-d8d0-4eed-9e26-f2af59cf48ee"
      },
      "source": [
        "#Char to Ascii\n",
        "ord('@')"
      ],
      "execution_count": 12,
      "outputs": [
        {
          "output_type": "execute_result",
          "data": {
            "text/plain": [
              "64"
            ]
          },
          "metadata": {
            "tags": []
          },
          "execution_count": 12
        }
      ]
    },
    {
      "cell_type": "code",
      "metadata": {
        "colab": {
          "base_uri": "https://localhost:8080/"
        },
        "id": "noTsuAm3BFlv",
        "outputId": "e4b03ba9-7136-4a69-ca13-1e0c96e3aea6"
      },
      "source": [
        "#Creación de un string\n",
        "s1 = 'fundamentos de programación en Python.'\n",
        "\n",
        "#Pertenencia\n",
        "'de' in s1"
      ],
      "execution_count": 15,
      "outputs": [
        {
          "output_type": "execute_result",
          "data": {
            "text/plain": [
              "True"
            ]
          },
          "metadata": {
            "tags": []
          },
          "execution_count": 15
        }
      ]
    },
    {
      "cell_type": "code",
      "metadata": {
        "colab": {
          "base_uri": "https://localhost:8080/"
        },
        "id": "7q9dauzrBJ33",
        "outputId": "1d95b3e1-3730-4e45-c932-a6b24ef17a31"
      },
      "source": [
        "'Fundamentos' not in s1"
      ],
      "execution_count": 16,
      "outputs": [
        {
          "output_type": "execute_result",
          "data": {
            "text/plain": [
              "True"
            ]
          },
          "metadata": {
            "tags": []
          },
          "execution_count": 16
        }
      ]
    },
    {
      "cell_type": "code",
      "metadata": {
        "colab": {
          "base_uri": "https://localhost:8080/"
        },
        "id": "4V9swcMUBcUV",
        "outputId": "17dcd2d3-f288-411d-fed4-d27894c07eab"
      },
      "source": [
        "#Longitud de un string\n",
        "len(s1)"
      ],
      "execution_count": 17,
      "outputs": [
        {
          "output_type": "execute_result",
          "data": {
            "text/plain": [
              "38"
            ]
          },
          "metadata": {
            "tags": []
          },
          "execution_count": 17
        }
      ]
    },
    {
      "cell_type": "code",
      "metadata": {
        "colab": {
          "base_uri": "https://localhost:8080/"
        },
        "id": "dY8JWco1CVyJ",
        "outputId": "cabbd6c6-12ea-405b-aae2-5708168ea55d"
      },
      "source": [
        "#Acceso (Indexing - Slicing)\n",
        "print(s1[0])\n",
        "print(s1[-1])\n",
        "print(s1[4:8])\n",
        "print(s1[::-1])"
      ],
      "execution_count": 18,
      "outputs": [
        {
          "output_type": "stream",
          "text": [
            "f\n",
            ".\n",
            "amen\n",
            ".nohtyP ne nóicamargorp ed sotnemadnuf\n"
          ],
          "name": "stdout"
        }
      ]
    },
    {
      "cell_type": "code",
      "metadata": {
        "colab": {
          "base_uri": "https://localhost:8080/"
        },
        "id": "35XDOFbXChAK",
        "outputId": "74c8f416-d7a5-4bde-db39-6b5e5817c156"
      },
      "source": [
        "#Insertar un salto de línea\n",
        "print('Primera línea\\nSegunda línea')"
      ],
      "execution_count": 19,
      "outputs": [
        {
          "output_type": "stream",
          "text": [
            "Primera línea\n",
            "Segunda línea\n"
          ],
          "name": "stdout"
        }
      ]
    },
    {
      "cell_type": "code",
      "metadata": {
        "colab": {
          "base_uri": "https://localhost:8080/"
        },
        "id": "LJvUqhn5Cjbe",
        "outputId": "7087525f-0c57-4fca-9601-fb4cd2b19e31"
      },
      "source": [
        "#Insertar un tabulador\n",
        "print('Primera línea\\tSegunda línea')"
      ],
      "execution_count": 20,
      "outputs": [
        {
          "output_type": "stream",
          "text": [
            "Primera línea\tSegunda línea\n"
          ],
          "name": "stdout"
        }
      ]
    },
    {
      "cell_type": "code",
      "metadata": {
        "colab": {
          "base_uri": "https://localhost:8080/"
        },
        "id": "CX8OAf6hCq_x",
        "outputId": "a6dd91f4-7772-4c11-bfb9-0e5cb6077625"
      },
      "source": [
        "#Funciones de desplazamiento\n",
        "\n",
        "print('String centrado:')\n",
        "print(s1.center(50))\n",
        "print(s1.center(50, '_')) #completar con guines bajos\n",
        "\n",
        "print('\\n\\nAlineado a la izquierda:')\n",
        "print(s1.ljust(50))\n",
        "print(s1.ljust(50, '<')) #completar con <\n",
        "\n",
        "\n",
        "print('\\n\\nAlineado a la derecha:')\n",
        "print(s1.rjust(50))\n",
        "print(s1.rjust(50, '>')) #completar con >\n",
        "\n",
        "print('\\n\\nCompletar con 0')\n",
        "print('-123.45'.zfill(4))\n",
        "print('-123.45'.zfill(12))"
      ],
      "execution_count": 21,
      "outputs": [
        {
          "output_type": "stream",
          "text": [
            "String centrado:\n",
            "      fundamentos de programación en Python.      \n",
            "______fundamentos de programación en Python.______\n",
            "\n",
            "\n",
            "Alineado a la izquierda:\n",
            "fundamentos de programación en Python.            \n",
            "fundamentos de programación en Python.<<<<<<<<<<<<\n",
            "\n",
            "\n",
            "Alineado a la derecha:\n",
            "            fundamentos de programación en Python.\n",
            ">>>>>>>>>>>>fundamentos de programación en Python.\n",
            "\n",
            "\n",
            "Completar con 0\n",
            "-123.45\n",
            "-00000123.45\n"
          ],
          "name": "stdout"
        }
      ]
    },
    {
      "cell_type": "code",
      "metadata": {
        "colab": {
          "base_uri": "https://localhost:8080/"
        },
        "id": "iYDZaWzjDK5Y",
        "outputId": "10d0fe3f-6d24-4c07-e7a2-ebf758912bc4"
      },
      "source": [
        "#Funciones de texto\n",
        "s1 = 'el motivo de mi RECLAMO es la demora en la entrega del producto que compré ONLINE, pésimo servicio.'\n",
        "\n",
        "print('Minúsculas:\\n', s1.lower())\n",
        "print('\\nMayúsculas:\\n', s1.upper())\n",
        "\n",
        "print('\\nPrimera letra en mayúscula:\\n', s1.capitalize())\n",
        "print('\\nPrimera letra de cada palabra en mayúscula:\\n', s1.title())\n",
        "\n",
        "print('\\nIntercambiar entre mayúsculas y minúsculas:\\n', s1.swapcase())"
      ],
      "execution_count": 22,
      "outputs": [
        {
          "output_type": "stream",
          "text": [
            "Minúsculas:\n",
            " el motivo de mi reclamo es la demora en la entrega del producto que compré online, pésimo servicio.\n",
            "\n",
            "Mayúsculas:\n",
            " EL MOTIVO DE MI RECLAMO ES LA DEMORA EN LA ENTREGA DEL PRODUCTO QUE COMPRÉ ONLINE, PÉSIMO SERVICIO.\n",
            "\n",
            "Primera letra en mayúscula:\n",
            " El motivo de mi reclamo es la demora en la entrega del producto que compré online, pésimo servicio.\n",
            "\n",
            "Primera letra de cada palabra en mayúscula:\n",
            " El Motivo De Mi Reclamo Es La Demora En La Entrega Del Producto Que Compré Online, Pésimo Servicio.\n",
            "\n",
            "Intercambiar entre mayúsculas y minúsculas:\n",
            " EL MOTIVO DE MI reclamo ES LA DEMORA EN LA ENTREGA DEL PRODUCTO QUE COMPRÉ online, PÉSIMO SERVICIO.\n"
          ],
          "name": "stdout"
        }
      ]
    },
    {
      "cell_type": "code",
      "metadata": {
        "colab": {
          "base_uri": "https://localhost:8080/"
        },
        "id": "RClH5aorD71b",
        "outputId": "8accb456-1146-4da2-f25d-4885f109cb9a"
      },
      "source": [
        "#Otras funciones - buleano\n",
        "s1 = '2020'\n",
        "s2 = 'python'\n",
        "s3 = 'Python'\n",
        "s4 = 'PythonDMC'\n",
        "s5 = 'Python-DMC'\n",
        "\n",
        "s1.isnumeric(),  s2.isnumeric(),  s3.isnumeric(),  s4.isnumeric(),  s5.isnumeric()"
      ],
      "execution_count": 26,
      "outputs": [
        {
          "output_type": "execute_result",
          "data": {
            "text/plain": [
              "(False, True, True, True, False)"
            ]
          },
          "metadata": {
            "tags": []
          },
          "execution_count": 26
        }
      ]
    },
    {
      "cell_type": "code",
      "metadata": {
        "id": "IvTq2nlSEVQO"
      },
      "source": [
        "#Otras funciones - buleano\n",
        "s1 = '2020'\n",
        "s2 = 'python'\n",
        "s3 = 'Python'\n",
        "s4 = 'PythonDMC'\n",
        "s5 = 'Python-DMC'\n",
        "\n",
        "s1.isalpha(),    s2.isalpha(),    s3.isalpha(),    s4.isalpha(),    s5.isalpha()"
      ],
      "execution_count": null,
      "outputs": []
    },
    {
      "cell_type": "code",
      "metadata": {
        "colab": {
          "base_uri": "https://localhost:8080/"
        },
        "id": "Em9c39-9EYgt",
        "outputId": "568dc0ae-db3a-4142-bd3f-ab8cd01c236d"
      },
      "source": [
        "#Otras funciones - buleano\n",
        "s1 = '2020'\n",
        "s2 = 'python'\n",
        "s3 = 'Python'\n",
        "s4 = 'PythonDMC'\n",
        "s5 = 'Python-DMC'\n",
        "\n",
        "s1.islower(),    s2.islower(),    s3.islower(),    s4.islower(),    s5.islower()"
      ],
      "execution_count": 27,
      "outputs": [
        {
          "output_type": "execute_result",
          "data": {
            "text/plain": [
              "(False, True, False, False, False)"
            ]
          },
          "metadata": {
            "tags": []
          },
          "execution_count": 27
        }
      ]
    },
    {
      "cell_type": "code",
      "metadata": {
        "colab": {
          "base_uri": "https://localhost:8080/"
        },
        "id": "QJJ5QTShEjlQ",
        "outputId": "69b8e589-78c5-4951-9980-4e9b96b22378"
      },
      "source": [
        "#Otras funciones - buleano\n",
        "s1 = '2020'\n",
        "s2 = 'python'\n",
        "s3 = 'Python'\n",
        "s4 = 'PythonDMC'\n",
        "s5 = 'Python-DMC'\n",
        "\n",
        "s1.isalnum(),    s2.isalnum(),    s3.isalnum(),    s4.isalnum(),    s5.isalnum()"
      ],
      "execution_count": 28,
      "outputs": [
        {
          "output_type": "execute_result",
          "data": {
            "text/plain": [
              "(True, True, True, True, False)"
            ]
          },
          "metadata": {
            "tags": []
          },
          "execution_count": 28
        }
      ]
    },
    {
      "cell_type": "code",
      "metadata": {
        "colab": {
          "base_uri": "https://localhost:8080/"
        },
        "id": "uAglP57tEoK4",
        "outputId": "0cb10a32-76fb-4ef1-9d30-58d52653a9a7"
      },
      "source": [
        "#Reemplazar, buscar y dividir.\n",
        "#Crea una lista\n",
        "#Corta cada vez que hay espacio\n",
        "s = 'Python es un lenguaje de tipado dinamico.'\n",
        "\n",
        "lista_palabras = s.split()\n",
        "print(lista_palabras)"
      ],
      "execution_count": 29,
      "outputs": [
        {
          "output_type": "stream",
          "text": [
            "['Python', 'es', 'un', 'lenguaje', 'de', 'tipado', 'dinamico.']\n"
          ],
          "name": "stdout"
        }
      ]
    },
    {
      "cell_type": "code",
      "metadata": {
        "colab": {
          "base_uri": "https://localhost:8080/"
        },
        "id": "6U36DhdwE_Hg",
        "outputId": "38466bec-2ccb-4728-ad21-8f0ed998c8cc"
      },
      "source": [
        "#Corta cada vez que hay \",\"\n",
        "s = 'Python es un lenguaje, de tipado dinamico.'\n",
        "\n",
        "lista_palabras = s.split(\",\")\n",
        "print(lista_palabras)"
      ],
      "execution_count": 31,
      "outputs": [
        {
          "output_type": "stream",
          "text": [
            "['Python es un lenguaje', ' de tipado dinamico.']\n"
          ],
          "name": "stdout"
        }
      ]
    }
  ]
}