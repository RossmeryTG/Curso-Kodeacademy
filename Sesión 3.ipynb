{
  "nbformat": 4,
  "nbformat_minor": 0,
  "metadata": {
    "colab": {
      "name": "Untitled0.ipynb",
      "provenance": [],
      "include_colab_link": true
    },
    "kernelspec": {
      "name": "python3",
      "display_name": "Python 3"
    },
    "language_info": {
      "name": "python"
    }
  },
  "cells": [
    {
      "cell_type": "markdown",
      "metadata": {
        "id": "view-in-github",
        "colab_type": "text"
      },
      "source": [
        "<a href=\"https://colab.research.google.com/github/RossmeryTG/Curso_Phyton/blob/main/Sesi%C3%B3n%203.ipynb\" target=\"_parent\"><img src=\"https://colab.research.google.com/assets/colab-badge.svg\" alt=\"Open In Colab\"/></a>"
      ]
    },
    {
      "cell_type": "markdown",
      "metadata": {
        "id": "bvzGBHo559kg"
      },
      "source": [
        "FUNDAMENTOS DE PROGRAMACIÓN - Sentencias de control"
      ]
    },
    {
      "cell_type": "markdown",
      "metadata": {
        "id": "i44irsXiT3f9"
      },
      "source": [
        "If, else, elif\n",
        "\n",
        "Condición - SI"
      ]
    },
    {
      "cell_type": "code",
      "metadata": {
        "id": "hLTqwAtk6hw7"
      },
      "source": [
        "x = 5\n",
        "y = 0\n",
        "\n",
        "#if condición, necesita un tab\n",
        "#if --> si\n",
        "#else --> sino\n",
        "if x == 4:\n",
        "    y  = 5\n",
        "else:\n",
        "    y  = 2"
      ],
      "execution_count": 1,
      "outputs": []
    },
    {
      "cell_type": "code",
      "metadata": {
        "id": "cKDxSjXaReOr",
        "outputId": "6c1845e2-0bf9-405e-d24e-03dc1d4fb050",
        "colab": {
          "base_uri": "https://localhost:8080/"
        }
      },
      "source": [
        "x = 5\n",
        "y = 0\n",
        "\n",
        "#todo lo despupes del \":\" tiene que estar enla misma altura\n",
        "if x == 4:\n",
        "    y  = 5\n",
        "    print(\"se ejecutó en el 'if'\")\n",
        "else:\n",
        "    y  = 2\n",
        "    print(\"se ejecutó en el 'else'\")\n",
        "y"
      ],
      "execution_count": 3,
      "outputs": [
        {
          "output_type": "stream",
          "text": [
            "se ejecutó en el 'else'\n"
          ],
          "name": "stdout"
        },
        {
          "output_type": "execute_result",
          "data": {
            "text/plain": [
              "2"
            ]
          },
          "metadata": {
            "tags": []
          },
          "execution_count": 3
        }
      ]
    },
    {
      "cell_type": "code",
      "metadata": {
        "id": "6Pfl94a6S_vY",
        "outputId": "a08854ed-d4b3-42a6-bb10-a67491172a03",
        "colab": {
          "base_uri": "https://localhost:8080/"
        }
      },
      "source": [
        "x = 5\n",
        "y = 0\n",
        "\n",
        "if x == 4 and y < 2:\n",
        "    y  = 5\n",
        "    print(\"se ejecutó en el 'if'\")\n",
        "else:\n",
        "    y  = 2\n",
        "    print(\"se ejecutó en el 'else'\")\n",
        "y"
      ],
      "execution_count": 5,
      "outputs": [
        {
          "output_type": "stream",
          "text": [
            "se ejecutó en el 'else'\n"
          ],
          "name": "stdout"
        },
        {
          "output_type": "execute_result",
          "data": {
            "text/plain": [
              "2"
            ]
          },
          "metadata": {
            "tags": []
          },
          "execution_count": 5
        }
      ]
    },
    {
      "cell_type": "code",
      "metadata": {
        "id": "jkREqlhDTP1P",
        "outputId": "25feb174-e1e2-4058-88a0-e00d4ba377ef",
        "colab": {
          "base_uri": "https://localhost:8080/"
        }
      },
      "source": [
        "x = 2\n",
        "y = 6\n",
        "\n",
        "if x == 4 or y < 2:\n",
        "    y  = 5\n",
        "    print(\"se ejecutó en el 'if'\")\n",
        "else:\n",
        "    y  = 2\n",
        "    print(\"se ejecutó en el 'else'\")\n",
        "y"
      ],
      "execution_count": 7,
      "outputs": [
        {
          "output_type": "stream",
          "text": [
            "se ejecutó en el 'else'\n"
          ],
          "name": "stdout"
        },
        {
          "output_type": "execute_result",
          "data": {
            "text/plain": [
              "2"
            ]
          },
          "metadata": {
            "tags": []
          },
          "execution_count": 7
        }
      ]
    },
    {
      "cell_type": "code",
      "metadata": {
        "id": "x8AVn57pT9RU",
        "outputId": "5f27b3d4-44eb-451d-a4f6-7520da5abef5",
        "colab": {
          "base_uri": "https://localhost:8080/"
        }
      },
      "source": [
        "x = 2\n",
        "y = 6\n",
        "\n",
        "#if elif\n",
        "if x == 4:\n",
        "    y = 1\n",
        "elif x == 2:\n",
        "    y = 3\n",
        "elif x == 6:\n",
        "    y = 3\n",
        "else:\n",
        "    y = 5\n",
        "\n",
        "print(\"El valor de y es:\", y)"
      ],
      "execution_count": 8,
      "outputs": [
        {
          "output_type": "stream",
          "text": [
            "El valor de y es: 3\n"
          ],
          "name": "stdout"
        }
      ]
    },
    {
      "cell_type": "code",
      "metadata": {
        "id": "WojWsiPr8jYO",
        "outputId": "a7c7c582-89f1-478b-d1ed-5f042e0a023f",
        "colab": {
          "base_uri": "https://localhost:8080/"
        }
      },
      "source": [
        "x = 2\n",
        "y = 6\n",
        "\n",
        "#si pongo solo if, solo toma en cuenta el último if\n",
        "if x == 4:\n",
        "    y = 1\n",
        "if x == 2:\n",
        "    y = 3\n",
        "if x == 6:\n",
        "    y = 3\n",
        "else:\n",
        "    y = 5\n",
        "\n",
        "print(\"El valor de y es:\", y)"
      ],
      "execution_count": 4,
      "outputs": [
        {
          "output_type": "stream",
          "text": [
            "El valor de y es: 5\n"
          ],
          "name": "stdout"
        }
      ]
    },
    {
      "cell_type": "code",
      "metadata": {
        "id": "Regwq9TJVlLW",
        "outputId": "0eb554eb-cdbd-4096-be9f-f104d191c8d2",
        "colab": {
          "base_uri": "https://localhost:8080/"
        }
      },
      "source": [
        "#Cuando tenemos una sola condición, lo podemos en una sola línea\n",
        "x = 2\n",
        "y = 6\n",
        "\n",
        "if x < y: print(\"x es menor que y\")"
      ],
      "execution_count": 7,
      "outputs": [
        {
          "output_type": "stream",
          "text": [
            "x es menor que y\n"
          ],
          "name": "stdout"
        }
      ]
    },
    {
      "cell_type": "code",
      "metadata": {
        "id": "tSjq88OG90aq"
      },
      "source": [
        "x = 8\n",
        "y = 6\n",
        "\n",
        "if x < y: print(\"x es menor que y\")"
      ],
      "execution_count": 8,
      "outputs": []
    },
    {
      "cell_type": "markdown",
      "metadata": {
        "id": "5sBfInOYWLe3"
      },
      "source": [
        "For \n",
        "\n",
        "Procesos iterativos, cada número lo trae por separado (no está en fila)\n",
        "Acaba cuando se acaba una lista o conjunto de datos"
      ]
    },
    {
      "cell_type": "code",
      "metadata": {
        "id": "lvXhW1yWWNdL",
        "outputId": "d39bd2a3-468a-42b7-b888-2b470f915eea",
        "colab": {
          "base_uri": "https://localhost:8080/"
        }
      },
      "source": [
        "lista = [1,2,4]\n",
        "for variable in lista:\n",
        "    print(variable)"
      ],
      "execution_count": 9,
      "outputs": [
        {
          "output_type": "stream",
          "text": [
            "1\n",
            "2\n",
            "4\n"
          ],
          "name": "stdout"
        }
      ]
    },
    {
      "cell_type": "code",
      "metadata": {
        "id": "GNdp8JwUXHlb",
        "outputId": "30422f67-53ef-45b0-d705-509761887044",
        "colab": {
          "base_uri": "https://localhost:8080/"
        }
      },
      "source": [
        "lista = [10,523,643]\n",
        "suma = 0 #porque inicialmente la suma es 0, si estuviera adentro, la suna \n",
        "#siempre sería 0\n",
        "#La iteración con solo for es hasta cuando termine la lista\n",
        "\n",
        "for variable in lista:\n",
        "    suma = suma + variable \n",
        "    print(\"La iteración de la suma es\", suma)\n",
        "\n",
        "print(\"La suma total es\", suma)"
      ],
      "execution_count": 10,
      "outputs": [
        {
          "output_type": "stream",
          "text": [
            "La iteración de la suma es 10\n",
            "La iteración de la suma es 533\n",
            "La iteración de la suma es 1176\n",
            "La suma total es 1176\n"
          ],
          "name": "stdout"
        }
      ]
    },
    {
      "cell_type": "code",
      "metadata": {
        "id": "EJ8q7-uwAStn",
        "outputId": "dc628e9c-0c70-4de9-9b6c-52de63388a1e",
        "colab": {
          "base_uri": "https://localhost:8080/"
        }
      },
      "source": [
        "lista = [10,523,643]\n",
        "suma = 0 \n",
        "#x puede variar de nombre\n",
        "\n",
        "for x in lista:\n",
        "    suma = suma + x \n",
        "    print(\"La iteración de la suma es\", suma)\n",
        "\n",
        "print(\"La suma total es\", suma)"
      ],
      "execution_count": 12,
      "outputs": [
        {
          "output_type": "stream",
          "text": [
            "La iteración de la suma es 10\n",
            "La iteración de la suma es 533\n",
            "La iteración de la suma es 1176\n",
            "La suma total es 1176\n"
          ],
          "name": "stdout"
        }
      ]
    },
    {
      "cell_type": "code",
      "metadata": {
        "id": "XW9iJjRbGk2R",
        "outputId": "41d21e3d-830e-46a8-8429-702de670fb0e",
        "colab": {
          "base_uri": "https://localhost:8080/",
          "height": 35
        }
      },
      "source": [
        "lista =[\"uno \", \"dos \", \"tres\"]\n",
        "cadena = \"\"\n",
        "for elemento in lista:\n",
        "    cadena += elemento\n",
        "cadena"
      ],
      "execution_count": 21,
      "outputs": [
        {
          "output_type": "execute_result",
          "data": {
            "application/vnd.google.colaboratory.intrinsic+json": {
              "type": "string"
            },
            "text/plain": [
              "'uno dos tres'"
            ]
          },
          "metadata": {
            "tags": []
          },
          "execution_count": 21
        }
      ]
    },
    {
      "cell_type": "markdown",
      "metadata": {
        "id": "WJ0Y05vmbyJy"
      },
      "source": [
        "While\n",
        "\n",
        "Este acaba no cuando se termina la lista, sino cuando deje cumplir una condición\n",
        "Acaba cuando se acaba una condición(es)\n",
        "Para salir del bucle podemos utilizar diferentes técnicas \n",
        "*   Cambiar la condición o condicione siniciales para así dejar que se cumplan y detener la iteración\n",
        "*   Llamar directamente a break que provocará la salida inmediata del bucle. Esta sentencia también funciona con for."
      ]
    },
    {
      "cell_type": "code",
      "metadata": {
        "id": "7JMXxPq_cCNL",
        "outputId": "a572f50b-57ab-4ded-c1cf-ccd7b45b0197",
        "colab": {
          "base_uri": "https://localhost:8080/"
        }
      },
      "source": [
        "x = 0\n",
        "y = 3\n",
        "\n",
        "while x < y:\n",
        "    print(x)\n",
        "    x += 1\n",
        "    print(\"Nuevo valor de x:\", x)"
      ],
      "execution_count": 13,
      "outputs": [
        {
          "output_type": "stream",
          "text": [
            "0\n",
            "Nuevo valor de x: 1\n",
            "1\n",
            "Nuevo valor de x: 2\n",
            "2\n",
            "Nuevo valor de x: 3\n"
          ],
          "name": "stdout"
        }
      ]
    },
    {
      "cell_type": "code",
      "metadata": {
        "id": "iWQ_DOtscvut",
        "outputId": "e52a411d-95e2-4775-9e8a-53b1b15427bb",
        "colab": {
          "base_uri": "https://localhost:8080/"
        }
      },
      "source": [
        "x = 0\n",
        "y = 150\n",
        "#El break va dentro del while\n",
        "while x < y:\n",
        "    print(x)\n",
        "    x += 1\n",
        "    if x == 50:\n",
        "        break\n",
        "    else:\n",
        "        print(\"Nuevo valor de x:\", x)"
      ],
      "execution_count": 15,
      "outputs": [
        {
          "output_type": "stream",
          "text": [
            "0\n",
            "Nuevo valor de x: 1\n",
            "1\n",
            "Nuevo valor de x: 2\n",
            "2\n",
            "Nuevo valor de x: 3\n",
            "3\n",
            "Nuevo valor de x: 4\n",
            "4\n",
            "Nuevo valor de x: 5\n",
            "5\n",
            "Nuevo valor de x: 6\n",
            "6\n",
            "Nuevo valor de x: 7\n",
            "7\n",
            "Nuevo valor de x: 8\n",
            "8\n",
            "Nuevo valor de x: 9\n",
            "9\n",
            "Nuevo valor de x: 10\n",
            "10\n",
            "Nuevo valor de x: 11\n",
            "11\n",
            "Nuevo valor de x: 12\n",
            "12\n",
            "Nuevo valor de x: 13\n",
            "13\n",
            "Nuevo valor de x: 14\n",
            "14\n",
            "Nuevo valor de x: 15\n",
            "15\n",
            "Nuevo valor de x: 16\n",
            "16\n",
            "Nuevo valor de x: 17\n",
            "17\n",
            "Nuevo valor de x: 18\n",
            "18\n",
            "Nuevo valor de x: 19\n",
            "19\n",
            "Nuevo valor de x: 20\n",
            "20\n",
            "Nuevo valor de x: 21\n",
            "21\n",
            "Nuevo valor de x: 22\n",
            "22\n",
            "Nuevo valor de x: 23\n",
            "23\n",
            "Nuevo valor de x: 24\n",
            "24\n",
            "Nuevo valor de x: 25\n",
            "25\n",
            "Nuevo valor de x: 26\n",
            "26\n",
            "Nuevo valor de x: 27\n",
            "27\n",
            "Nuevo valor de x: 28\n",
            "28\n",
            "Nuevo valor de x: 29\n",
            "29\n",
            "Nuevo valor de x: 30\n",
            "30\n",
            "Nuevo valor de x: 31\n",
            "31\n",
            "Nuevo valor de x: 32\n",
            "32\n",
            "Nuevo valor de x: 33\n",
            "33\n",
            "Nuevo valor de x: 34\n",
            "34\n",
            "Nuevo valor de x: 35\n",
            "35\n",
            "Nuevo valor de x: 36\n",
            "36\n",
            "Nuevo valor de x: 37\n",
            "37\n",
            "Nuevo valor de x: 38\n",
            "38\n",
            "Nuevo valor de x: 39\n",
            "39\n",
            "Nuevo valor de x: 40\n",
            "40\n",
            "Nuevo valor de x: 41\n",
            "41\n",
            "Nuevo valor de x: 42\n",
            "42\n",
            "Nuevo valor de x: 43\n",
            "43\n",
            "Nuevo valor de x: 44\n",
            "44\n",
            "Nuevo valor de x: 45\n",
            "45\n",
            "Nuevo valor de x: 46\n",
            "46\n",
            "Nuevo valor de x: 47\n",
            "47\n",
            "Nuevo valor de x: 48\n",
            "48\n",
            "Nuevo valor de x: 49\n",
            "49\n"
          ],
          "name": "stdout"
        }
      ]
    },
    {
      "cell_type": "code",
      "metadata": {
        "id": "StS3QbqUd3uw",
        "outputId": "d55568f3-18c2-468c-bcf1-1c77794b853b",
        "colab": {
          "base_uri": "https://localhost:8080/"
        }
      },
      "source": [
        "x = 0\n",
        "y = 150\n",
        "while x < y:\n",
        "  print(x)\n",
        "  x += 1\n",
        "  if len(str(x)) == 3:\n",
        "    print(\"Error la cadena excede el valor:\", len(str(x)), x) \n",
        "    break\n",
        "  else:\n",
        "    print(\"Nuevo valor de x:\", x)"
      ],
      "execution_count": 29,
      "outputs": [
        {
          "output_type": "stream",
          "text": [
            "0\n",
            "Nuevo valor de x: 1\n",
            "1\n",
            "Nuevo valor de x: 2\n",
            "2\n",
            "Nuevo valor de x: 3\n",
            "3\n",
            "Nuevo valor de x: 4\n",
            "4\n",
            "Nuevo valor de x: 5\n",
            "5\n",
            "Nuevo valor de x: 6\n",
            "6\n",
            "Nuevo valor de x: 7\n",
            "7\n",
            "Nuevo valor de x: 8\n",
            "8\n",
            "Nuevo valor de x: 9\n",
            "9\n",
            "Nuevo valor de x: 10\n",
            "10\n",
            "Nuevo valor de x: 11\n",
            "11\n",
            "Nuevo valor de x: 12\n",
            "12\n",
            "Nuevo valor de x: 13\n",
            "13\n",
            "Nuevo valor de x: 14\n",
            "14\n",
            "Nuevo valor de x: 15\n",
            "15\n",
            "Nuevo valor de x: 16\n",
            "16\n",
            "Nuevo valor de x: 17\n",
            "17\n",
            "Nuevo valor de x: 18\n",
            "18\n",
            "Nuevo valor de x: 19\n",
            "19\n",
            "Nuevo valor de x: 20\n",
            "20\n",
            "Nuevo valor de x: 21\n",
            "21\n",
            "Nuevo valor de x: 22\n",
            "22\n",
            "Nuevo valor de x: 23\n",
            "23\n",
            "Nuevo valor de x: 24\n",
            "24\n",
            "Nuevo valor de x: 25\n",
            "25\n",
            "Nuevo valor de x: 26\n",
            "26\n",
            "Nuevo valor de x: 27\n",
            "27\n",
            "Nuevo valor de x: 28\n",
            "28\n",
            "Nuevo valor de x: 29\n",
            "29\n",
            "Nuevo valor de x: 30\n",
            "30\n",
            "Nuevo valor de x: 31\n",
            "31\n",
            "Nuevo valor de x: 32\n",
            "32\n",
            "Nuevo valor de x: 33\n",
            "33\n",
            "Nuevo valor de x: 34\n",
            "34\n",
            "Nuevo valor de x: 35\n",
            "35\n",
            "Nuevo valor de x: 36\n",
            "36\n",
            "Nuevo valor de x: 37\n",
            "37\n",
            "Nuevo valor de x: 38\n",
            "38\n",
            "Nuevo valor de x: 39\n",
            "39\n",
            "Nuevo valor de x: 40\n",
            "40\n",
            "Nuevo valor de x: 41\n",
            "41\n",
            "Nuevo valor de x: 42\n",
            "42\n",
            "Nuevo valor de x: 43\n",
            "43\n",
            "Nuevo valor de x: 44\n",
            "44\n",
            "Nuevo valor de x: 45\n",
            "45\n",
            "Nuevo valor de x: 46\n",
            "46\n",
            "Nuevo valor de x: 47\n",
            "47\n",
            "Nuevo valor de x: 48\n",
            "48\n",
            "Nuevo valor de x: 49\n",
            "49\n",
            "Nuevo valor de x: 50\n",
            "50\n",
            "Nuevo valor de x: 51\n",
            "51\n",
            "Nuevo valor de x: 52\n",
            "52\n",
            "Nuevo valor de x: 53\n",
            "53\n",
            "Nuevo valor de x: 54\n",
            "54\n",
            "Nuevo valor de x: 55\n",
            "55\n",
            "Nuevo valor de x: 56\n",
            "56\n",
            "Nuevo valor de x: 57\n",
            "57\n",
            "Nuevo valor de x: 58\n",
            "58\n",
            "Nuevo valor de x: 59\n",
            "59\n",
            "Nuevo valor de x: 60\n",
            "60\n",
            "Nuevo valor de x: 61\n",
            "61\n",
            "Nuevo valor de x: 62\n",
            "62\n",
            "Nuevo valor de x: 63\n",
            "63\n",
            "Nuevo valor de x: 64\n",
            "64\n",
            "Nuevo valor de x: 65\n",
            "65\n",
            "Nuevo valor de x: 66\n",
            "66\n",
            "Nuevo valor de x: 67\n",
            "67\n",
            "Nuevo valor de x: 68\n",
            "68\n",
            "Nuevo valor de x: 69\n",
            "69\n",
            "Nuevo valor de x: 70\n",
            "70\n",
            "Nuevo valor de x: 71\n",
            "71\n",
            "Nuevo valor de x: 72\n",
            "72\n",
            "Nuevo valor de x: 73\n",
            "73\n",
            "Nuevo valor de x: 74\n",
            "74\n",
            "Nuevo valor de x: 75\n",
            "75\n",
            "Nuevo valor de x: 76\n",
            "76\n",
            "Nuevo valor de x: 77\n",
            "77\n",
            "Nuevo valor de x: 78\n",
            "78\n",
            "Nuevo valor de x: 79\n",
            "79\n",
            "Nuevo valor de x: 80\n",
            "80\n",
            "Nuevo valor de x: 81\n",
            "81\n",
            "Nuevo valor de x: 82\n",
            "82\n",
            "Nuevo valor de x: 83\n",
            "83\n",
            "Nuevo valor de x: 84\n",
            "84\n",
            "Nuevo valor de x: 85\n",
            "85\n",
            "Nuevo valor de x: 86\n",
            "86\n",
            "Nuevo valor de x: 87\n",
            "87\n",
            "Nuevo valor de x: 88\n",
            "88\n",
            "Nuevo valor de x: 89\n",
            "89\n",
            "Nuevo valor de x: 90\n",
            "90\n",
            "Nuevo valor de x: 91\n",
            "91\n",
            "Nuevo valor de x: 92\n",
            "92\n",
            "Nuevo valor de x: 93\n",
            "93\n",
            "Nuevo valor de x: 94\n",
            "94\n",
            "Nuevo valor de x: 95\n",
            "95\n",
            "Nuevo valor de x: 96\n",
            "96\n",
            "Nuevo valor de x: 97\n",
            "97\n",
            "Nuevo valor de x: 98\n",
            "98\n",
            "Nuevo valor de x: 99\n",
            "99\n",
            "Error la cadena excede el valor: 3 100\n"
          ],
          "name": "stdout"
        }
      ]
    },
    {
      "cell_type": "code",
      "metadata": {
        "id": "aRcShqkOErUw",
        "outputId": "ab63fc8e-696c-444b-acde-3734c10854f3",
        "colab": {
          "base_uri": "https://localhost:8080/"
        }
      },
      "source": [
        "x = 0\n",
        "y = 150\n",
        "#Len cuenta los caracteres, no puede trabajar con enteros, solo lee string\n",
        "#str convierte el dato en string\n",
        "\n",
        "while x < y:\n",
        "    print(x)\n",
        "    x += 1\n",
        "    if len(str(x)) == 3:\n",
        "        print(\"Error la cadena excede el valor:\", len(str(x)), x)\n",
        "        break\n",
        "    else:\n",
        "        print(\"Nuevo valor de x:\", x)"
      ],
      "execution_count": 17,
      "outputs": [
        {
          "output_type": "stream",
          "text": [
            "0\n",
            "Nuevo valor de x: 1\n",
            "1\n",
            "Nuevo valor de x: 2\n",
            "2\n",
            "Nuevo valor de x: 3\n",
            "3\n",
            "Nuevo valor de x: 4\n",
            "4\n",
            "Nuevo valor de x: 5\n",
            "5\n",
            "Nuevo valor de x: 6\n",
            "6\n",
            "Nuevo valor de x: 7\n",
            "7\n",
            "Nuevo valor de x: 8\n",
            "8\n",
            "Nuevo valor de x: 9\n",
            "9\n",
            "Nuevo valor de x: 10\n",
            "10\n",
            "Nuevo valor de x: 11\n",
            "11\n",
            "Nuevo valor de x: 12\n",
            "12\n",
            "Nuevo valor de x: 13\n",
            "13\n",
            "Nuevo valor de x: 14\n",
            "14\n",
            "Nuevo valor de x: 15\n",
            "15\n",
            "Nuevo valor de x: 16\n",
            "16\n",
            "Nuevo valor de x: 17\n",
            "17\n",
            "Nuevo valor de x: 18\n",
            "18\n",
            "Nuevo valor de x: 19\n",
            "19\n",
            "Nuevo valor de x: 20\n",
            "20\n",
            "Nuevo valor de x: 21\n",
            "21\n",
            "Nuevo valor de x: 22\n",
            "22\n",
            "Nuevo valor de x: 23\n",
            "23\n",
            "Nuevo valor de x: 24\n",
            "24\n",
            "Nuevo valor de x: 25\n",
            "25\n",
            "Nuevo valor de x: 26\n",
            "26\n",
            "Nuevo valor de x: 27\n",
            "27\n",
            "Nuevo valor de x: 28\n",
            "28\n",
            "Nuevo valor de x: 29\n",
            "29\n",
            "Nuevo valor de x: 30\n",
            "30\n",
            "Nuevo valor de x: 31\n",
            "31\n",
            "Nuevo valor de x: 32\n",
            "32\n",
            "Nuevo valor de x: 33\n",
            "33\n",
            "Nuevo valor de x: 34\n",
            "34\n",
            "Nuevo valor de x: 35\n",
            "35\n",
            "Nuevo valor de x: 36\n",
            "36\n",
            "Nuevo valor de x: 37\n",
            "37\n",
            "Nuevo valor de x: 38\n",
            "38\n",
            "Nuevo valor de x: 39\n",
            "39\n",
            "Nuevo valor de x: 40\n",
            "40\n",
            "Nuevo valor de x: 41\n",
            "41\n",
            "Nuevo valor de x: 42\n",
            "42\n",
            "Nuevo valor de x: 43\n",
            "43\n",
            "Nuevo valor de x: 44\n",
            "44\n",
            "Nuevo valor de x: 45\n",
            "45\n",
            "Nuevo valor de x: 46\n",
            "46\n",
            "Nuevo valor de x: 47\n",
            "47\n",
            "Nuevo valor de x: 48\n",
            "48\n",
            "Nuevo valor de x: 49\n",
            "49\n",
            "Nuevo valor de x: 50\n",
            "50\n",
            "Nuevo valor de x: 51\n",
            "51\n",
            "Nuevo valor de x: 52\n",
            "52\n",
            "Nuevo valor de x: 53\n",
            "53\n",
            "Nuevo valor de x: 54\n",
            "54\n",
            "Nuevo valor de x: 55\n",
            "55\n",
            "Nuevo valor de x: 56\n",
            "56\n",
            "Nuevo valor de x: 57\n",
            "57\n",
            "Nuevo valor de x: 58\n",
            "58\n",
            "Nuevo valor de x: 59\n",
            "59\n",
            "Nuevo valor de x: 60\n",
            "60\n",
            "Nuevo valor de x: 61\n",
            "61\n",
            "Nuevo valor de x: 62\n",
            "62\n",
            "Nuevo valor de x: 63\n",
            "63\n",
            "Nuevo valor de x: 64\n",
            "64\n",
            "Nuevo valor de x: 65\n",
            "65\n",
            "Nuevo valor de x: 66\n",
            "66\n",
            "Nuevo valor de x: 67\n",
            "67\n",
            "Nuevo valor de x: 68\n",
            "68\n",
            "Nuevo valor de x: 69\n",
            "69\n",
            "Nuevo valor de x: 70\n",
            "70\n",
            "Nuevo valor de x: 71\n",
            "71\n",
            "Nuevo valor de x: 72\n",
            "72\n",
            "Nuevo valor de x: 73\n",
            "73\n",
            "Nuevo valor de x: 74\n",
            "74\n",
            "Nuevo valor de x: 75\n",
            "75\n",
            "Nuevo valor de x: 76\n",
            "76\n",
            "Nuevo valor de x: 77\n",
            "77\n",
            "Nuevo valor de x: 78\n",
            "78\n",
            "Nuevo valor de x: 79\n",
            "79\n",
            "Nuevo valor de x: 80\n",
            "80\n",
            "Nuevo valor de x: 81\n",
            "81\n",
            "Nuevo valor de x: 82\n",
            "82\n",
            "Nuevo valor de x: 83\n",
            "83\n",
            "Nuevo valor de x: 84\n",
            "84\n",
            "Nuevo valor de x: 85\n",
            "85\n",
            "Nuevo valor de x: 86\n",
            "86\n",
            "Nuevo valor de x: 87\n",
            "87\n",
            "Nuevo valor de x: 88\n",
            "88\n",
            "Nuevo valor de x: 89\n",
            "89\n",
            "Nuevo valor de x: 90\n",
            "90\n",
            "Nuevo valor de x: 91\n",
            "91\n",
            "Nuevo valor de x: 92\n",
            "92\n",
            "Nuevo valor de x: 93\n",
            "93\n",
            "Nuevo valor de x: 94\n",
            "94\n",
            "Nuevo valor de x: 95\n",
            "95\n",
            "Nuevo valor de x: 96\n",
            "96\n",
            "Nuevo valor de x: 97\n",
            "97\n",
            "Nuevo valor de x: 98\n",
            "98\n",
            "Nuevo valor de x: 99\n",
            "99\n",
            "Error la cadena excede el valor: 3 100\n"
          ],
          "name": "stdout"
        }
      ]
    },
    {
      "cell_type": "code",
      "metadata": {
        "id": "W9mqzBBKfA6Y",
        "outputId": "135f716f-c341-4ccc-aa36-6012a17e6294",
        "colab": {
          "base_uri": "https://localhost:8080/"
        }
      },
      "source": [
        "x = 0\n",
        "y = 150\n",
        "#Para no duplicar código (por normas de programación) deberíamos crear una\n",
        "#variable\n",
        "\n",
        "while x < y:\n",
        "    print(x)\n",
        "    x += 1\n",
        "    cadena_numero = len(str(x))\n",
        "    if cadena_numero == 3:\n",
        "        print(\"Error la cadena excede el valor:\", cadena_numero, x)\n",
        "        break\n",
        "    else:\n",
        "        print(\"Nuevo valor de x:\", x)"
      ],
      "execution_count": 16,
      "outputs": [
        {
          "output_type": "stream",
          "text": [
            "0\n",
            "Nuevo valor de x: 1\n",
            "1\n",
            "Nuevo valor de x: 2\n",
            "2\n",
            "Nuevo valor de x: 3\n",
            "3\n",
            "Nuevo valor de x: 4\n",
            "4\n",
            "Nuevo valor de x: 5\n",
            "5\n",
            "Nuevo valor de x: 6\n",
            "6\n",
            "Nuevo valor de x: 7\n",
            "7\n",
            "Nuevo valor de x: 8\n",
            "8\n",
            "Nuevo valor de x: 9\n",
            "9\n",
            "Nuevo valor de x: 10\n",
            "10\n",
            "Nuevo valor de x: 11\n",
            "11\n",
            "Nuevo valor de x: 12\n",
            "12\n",
            "Nuevo valor de x: 13\n",
            "13\n",
            "Nuevo valor de x: 14\n",
            "14\n",
            "Nuevo valor de x: 15\n",
            "15\n",
            "Nuevo valor de x: 16\n",
            "16\n",
            "Nuevo valor de x: 17\n",
            "17\n",
            "Nuevo valor de x: 18\n",
            "18\n",
            "Nuevo valor de x: 19\n",
            "19\n",
            "Nuevo valor de x: 20\n",
            "20\n",
            "Nuevo valor de x: 21\n",
            "21\n",
            "Nuevo valor de x: 22\n",
            "22\n",
            "Nuevo valor de x: 23\n",
            "23\n",
            "Nuevo valor de x: 24\n",
            "24\n",
            "Nuevo valor de x: 25\n",
            "25\n",
            "Nuevo valor de x: 26\n",
            "26\n",
            "Nuevo valor de x: 27\n",
            "27\n",
            "Nuevo valor de x: 28\n",
            "28\n",
            "Nuevo valor de x: 29\n",
            "29\n",
            "Nuevo valor de x: 30\n",
            "30\n",
            "Nuevo valor de x: 31\n",
            "31\n",
            "Nuevo valor de x: 32\n",
            "32\n",
            "Nuevo valor de x: 33\n",
            "33\n",
            "Nuevo valor de x: 34\n",
            "34\n",
            "Nuevo valor de x: 35\n",
            "35\n",
            "Nuevo valor de x: 36\n",
            "36\n",
            "Nuevo valor de x: 37\n",
            "37\n",
            "Nuevo valor de x: 38\n",
            "38\n",
            "Nuevo valor de x: 39\n",
            "39\n",
            "Nuevo valor de x: 40\n",
            "40\n",
            "Nuevo valor de x: 41\n",
            "41\n",
            "Nuevo valor de x: 42\n",
            "42\n",
            "Nuevo valor de x: 43\n",
            "43\n",
            "Nuevo valor de x: 44\n",
            "44\n",
            "Nuevo valor de x: 45\n",
            "45\n",
            "Nuevo valor de x: 46\n",
            "46\n",
            "Nuevo valor de x: 47\n",
            "47\n",
            "Nuevo valor de x: 48\n",
            "48\n",
            "Nuevo valor de x: 49\n",
            "49\n",
            "Nuevo valor de x: 50\n",
            "50\n",
            "Nuevo valor de x: 51\n",
            "51\n",
            "Nuevo valor de x: 52\n",
            "52\n",
            "Nuevo valor de x: 53\n",
            "53\n",
            "Nuevo valor de x: 54\n",
            "54\n",
            "Nuevo valor de x: 55\n",
            "55\n",
            "Nuevo valor de x: 56\n",
            "56\n",
            "Nuevo valor de x: 57\n",
            "57\n",
            "Nuevo valor de x: 58\n",
            "58\n",
            "Nuevo valor de x: 59\n",
            "59\n",
            "Nuevo valor de x: 60\n",
            "60\n",
            "Nuevo valor de x: 61\n",
            "61\n",
            "Nuevo valor de x: 62\n",
            "62\n",
            "Nuevo valor de x: 63\n",
            "63\n",
            "Nuevo valor de x: 64\n",
            "64\n",
            "Nuevo valor de x: 65\n",
            "65\n",
            "Nuevo valor de x: 66\n",
            "66\n",
            "Nuevo valor de x: 67\n",
            "67\n",
            "Nuevo valor de x: 68\n",
            "68\n",
            "Nuevo valor de x: 69\n",
            "69\n",
            "Nuevo valor de x: 70\n",
            "70\n",
            "Nuevo valor de x: 71\n",
            "71\n",
            "Nuevo valor de x: 72\n",
            "72\n",
            "Nuevo valor de x: 73\n",
            "73\n",
            "Nuevo valor de x: 74\n",
            "74\n",
            "Nuevo valor de x: 75\n",
            "75\n",
            "Nuevo valor de x: 76\n",
            "76\n",
            "Nuevo valor de x: 77\n",
            "77\n",
            "Nuevo valor de x: 78\n",
            "78\n",
            "Nuevo valor de x: 79\n",
            "79\n",
            "Nuevo valor de x: 80\n",
            "80\n",
            "Nuevo valor de x: 81\n",
            "81\n",
            "Nuevo valor de x: 82\n",
            "82\n",
            "Nuevo valor de x: 83\n",
            "83\n",
            "Nuevo valor de x: 84\n",
            "84\n",
            "Nuevo valor de x: 85\n",
            "85\n",
            "Nuevo valor de x: 86\n",
            "86\n",
            "Nuevo valor de x: 87\n",
            "87\n",
            "Nuevo valor de x: 88\n",
            "88\n",
            "Nuevo valor de x: 89\n",
            "89\n",
            "Nuevo valor de x: 90\n",
            "90\n",
            "Nuevo valor de x: 91\n",
            "91\n",
            "Nuevo valor de x: 92\n",
            "92\n",
            "Nuevo valor de x: 93\n",
            "93\n",
            "Nuevo valor de x: 94\n",
            "94\n",
            "Nuevo valor de x: 95\n",
            "95\n",
            "Nuevo valor de x: 96\n",
            "96\n",
            "Nuevo valor de x: 97\n",
            "97\n",
            "Nuevo valor de x: 98\n",
            "98\n",
            "Nuevo valor de x: 99\n",
            "99\n",
            "Error la cadena excede el valor: 3 100\n"
          ],
          "name": "stdout"
        }
      ]
    },
    {
      "cell_type": "code",
      "metadata": {
        "id": "ZdcBvZqiHFRs"
      },
      "source": [
        "*Otra sentencia a for y while es continue, la cual se emplea para provocar un salto inmediato a la siguiente iteración del bucle. \n",
        "Esto puede ser útil, por ejemplo, cuando no deseamos ejecutar una determinada sentencia y solo queremos imprimir los números pares:"
      ],
      "execution_count": null,
      "outputs": []
    },
    {
      "cell_type": "code",
      "metadata": {
        "id": "Fi-jmyLjHS1A",
        "outputId": "16fed8d4-a50d-48d6-bd27-c62071a0c9d6",
        "colab": {
          "base_uri": "https://localhost:8080/"
        }
      },
      "source": [
        "for i in range (1, 10):\n",
        "    if i % 2 != 0:\n",
        "        continue\n",
        "    print (i)\n",
        "\n"
      ],
      "execution_count": 32,
      "outputs": [
        {
          "output_type": "stream",
          "text": [
            "2\n",
            "4\n",
            "6\n",
            "8\n"
          ],
          "name": "stdout"
        }
      ]
    },
    {
      "cell_type": "markdown",
      "metadata": {
        "id": "zPouXsOcg0HX"
      },
      "source": [
        "Funciones\n",
        "\n",
        "Es una función porque esta con paréntises\n",
        "La variable no tiene paréntesis"
      ]
    },
    {
      "cell_type": "code",
      "metadata": {
        "id": "qLUI7Tpcgxue",
        "outputId": "e12789ac-5903-484a-a450-ce37efcf4371",
        "colab": {
          "base_uri": "https://localhost:8080/"
        }
      },
      "source": [
        "def obtener_nombre_completo(): #declaracion de parámetros\n",
        "    return \"Rossmery Torres\" #función\n",
        "\n",
        "nombre_completo = obtener_nombre_completo() #variable\n",
        "print(nombre_completo)"
      ],
      "execution_count": 43,
      "outputs": [
        {
          "output_type": "stream",
          "text": [
            "Rossmery Torres\n"
          ],
          "name": "stdout"
        }
      ]
    },
    {
      "cell_type": "code",
      "metadata": {
        "id": "fQvINFphiGGx",
        "outputId": "7b42d5f5-789a-48a4-8879-af862833c3ae",
        "colab": {
          "base_uri": "https://localhost:8080/"
        }
      },
      "source": [
        "def obtener_nombre_completo_con_parametros(nombres, apellidos): #declarar parámetros\n",
        "    return nombres + \" \" + apellidos #función\n",
        "\n",
        "nombre = \"Juan Miguel\"     #parámetros \n",
        "apellido = \"Salinas Ponce\"\n",
        "\n",
        "nombre_completo = obtener_nombre_completo_con_parametros(nombre, apellido) #variable\n",
        "print(nombre_completo)"
      ],
      "execution_count": 53,
      "outputs": [
        {
          "output_type": "stream",
          "text": [
            "Juan Miguel Salinas Ponce\n"
          ],
          "name": "stdout"
        }
      ]
    },
    {
      "cell_type": "code",
      "metadata": {
        "id": "pnaK404skDtZ",
        "outputId": "c441efcf-31c6-4e3d-809b-74139d7016cd",
        "colab": {
          "base_uri": "https://localhost:8080/",
          "height": 129
        }
      },
      "source": [
        "def obtener_nombre_completo_con_parametros(nombres, apellidos): #declarar parámetros\n",
        "    return \"Sus nombre son:\"nombres + \" \" + \"Sus apellidos son:\" apellidos #función\n",
        "\n",
        "x = \"Juan Miguel\"   #parámetros\n",
        "y = \"Salinas Ponce\"\n",
        "\n",
        "nombre_completo = obtener_nombre_completo_con_parametros(x, y) #variable\n",
        "print(nombre_completo)"
      ],
      "execution_count": 56,
      "outputs": [
        {
          "output_type": "error",
          "ename": "SyntaxError",
          "evalue": "ignored",
          "traceback": [
            "\u001b[0;36m  File \u001b[0;32m\"<ipython-input-56-5558e363acc4>\"\u001b[0;36m, line \u001b[0;32m2\u001b[0m\n\u001b[0;31m    return \"Sus nombre son:\"nombres + \" \" + \"Sus apellidos son:\" apellidos #función\u001b[0m\n\u001b[0m                                  ^\u001b[0m\n\u001b[0;31mSyntaxError\u001b[0m\u001b[0;31m:\u001b[0m invalid syntax\n"
          ]
        }
      ]
    },
    {
      "cell_type": "code",
      "metadata": {
        "id": "WbW40b4DkZp7",
        "outputId": "765ecf58-e968-431c-d20c-9b03a1732d5e",
        "colab": {
          "base_uri": "https://localhost:8080/"
        }
      },
      "source": [
        "def obtener_nombre_completo_con_parametros(nombres, apellidos):\n",
        "  return nombres + \" \" + apellidos\n",
        "\n",
        "nombres = \"Juan Miguel\"\n",
        "apellidos = \"Salinas Ponce\"\n",
        "\n",
        "nombre_completo = obtener_nombre_completo_con_parametros(nombres, apellidos)\n",
        "print(nombre_completo)"
      ],
      "execution_count": 41,
      "outputs": [
        {
          "output_type": "stream",
          "text": [
            "Juan Miguel Salinas Ponce\n"
          ],
          "name": "stdout"
        }
      ]
    },
    {
      "cell_type": "code",
      "metadata": {
        "id": "-BBUcY3gNCH9"
      },
      "source": [
        "*Por posición\n",
        "\n",
        "Respeta la posicicón"
      ],
      "execution_count": null,
      "outputs": []
    },
    {
      "cell_type": "code",
      "metadata": {
        "id": "BTB6rKJjPggv",
        "outputId": "53afc1fe-2e28-4213-a553-86943d108177",
        "colab": {
          "base_uri": "https://localhost:8080/",
          "height": 129
        }
      },
      "source": [
        "def obtener_nombre_completo_con_parametros(nombres, apellidos): \n",
        "    return \"Sus nombre son:\"nombres + \" \" + \"Sus apellidos son:\" apellidos \n",
        "\n",
        "x = \"Juan Miguel\"   \n",
        "y = \"Salinas Ponce\"\n",
        "\n",
        "nombre_completo = obtener_nombre_completo_con_parametros(y, x) \n",
        "print(nombre_completo)"
      ],
      "execution_count": 51,
      "outputs": [
        {
          "output_type": "error",
          "ename": "SyntaxError",
          "evalue": "ignored",
          "traceback": [
            "\u001b[0;36m  File \u001b[0;32m\"<ipython-input-51-64434027df8b>\"\u001b[0;36m, line \u001b[0;32m2\u001b[0m\n\u001b[0;31m    return \"Sus nombre son:\"nombres + \" \" + \"Sus apellidos son:\" apellidos\u001b[0m\n\u001b[0m                                  ^\u001b[0m\n\u001b[0;31mSyntaxError\u001b[0m\u001b[0;31m:\u001b[0m invalid syntax\n"
          ]
        }
      ]
    },
    {
      "cell_type": "code",
      "metadata": {
        "id": "GMAucWPrks0W",
        "outputId": "ad2f926c-5564-495d-ac2a-ea23780e0eda",
        "colab": {
          "base_uri": "https://localhost:8080/",
          "height": 231
        }
      },
      "source": [
        "def obtener_nombre_completo_con_parametros(nombres, apellidos2):\n",
        "  return nombres + \" \" + apellidos\n",
        "\n",
        "x = \"Juan Miguel\"\n",
        "y = \"Salinas Ponce\"\n",
        "\n",
        "nombre_completo = obtener_nombre_completo_con_parametros(apellido)\n",
        "print(nombre_completo)"
      ],
      "execution_count": 42,
      "outputs": [
        {
          "output_type": "error",
          "ename": "TypeError",
          "evalue": "ignored",
          "traceback": [
            "\u001b[0;31m---------------------------------------------------------------------------\u001b[0m",
            "\u001b[0;31mTypeError\u001b[0m                                 Traceback (most recent call last)",
            "\u001b[0;32m<ipython-input-42-ccd13c9ad122>\u001b[0m in \u001b[0;36m<module>\u001b[0;34m()\u001b[0m\n\u001b[1;32m      5\u001b[0m \u001b[0my\u001b[0m \u001b[0;34m=\u001b[0m \u001b[0;34m\"Salinas Ponce\"\u001b[0m\u001b[0;34m\u001b[0m\u001b[0;34m\u001b[0m\u001b[0m\n\u001b[1;32m      6\u001b[0m \u001b[0;34m\u001b[0m\u001b[0m\n\u001b[0;32m----> 7\u001b[0;31m \u001b[0mnombre_completo\u001b[0m \u001b[0;34m=\u001b[0m \u001b[0mobtener_nombre_completo_con_parametros\u001b[0m\u001b[0;34m(\u001b[0m\u001b[0mapellido\u001b[0m\u001b[0;34m)\u001b[0m\u001b[0;34m\u001b[0m\u001b[0;34m\u001b[0m\u001b[0m\n\u001b[0m\u001b[1;32m      8\u001b[0m \u001b[0mprint\u001b[0m\u001b[0;34m(\u001b[0m\u001b[0mnombre_completo\u001b[0m\u001b[0;34m)\u001b[0m\u001b[0;34m\u001b[0m\u001b[0;34m\u001b[0m\u001b[0m\n",
            "\u001b[0;31mTypeError\u001b[0m: obtener_nombre_completo_con_parametros() missing 1 required positional argument: 'apellidos2'"
          ]
        }
      ]
    },
    {
      "cell_type": "code",
      "metadata": {
        "id": "AtaesVINk5_l",
        "outputId": "8ed79f5b-16f8-48a5-8bd8-b0a169200dd4",
        "colab": {
          "base_uri": "https://localhost:8080/"
        }
      },
      "source": [
        "def formulario_inscripción(nombre_completo, pais = \"Perú\"):\n",
        "  return {\n",
        "      \"nombre_completo\" : nombre_completo,\n",
        "      \"pais\" : pais\n",
        "}\n",
        "    \n",
        "print(formulario_inscripción(nombre_completo))"
      ],
      "execution_count": 48,
      "outputs": [
        {
          "output_type": "stream",
          "text": [
            "{'nombre_completo': 'Rossmery Torres', 'pais': 'Perú'}\n"
          ],
          "name": "stdout"
        }
      ]
    },
    {
      "cell_type": "code",
      "metadata": {
        "id": "d8xMqbkKnhec",
        "outputId": "a9719e93-38bc-4021-ed18-e8ee622dcdcc",
        "colab": {
          "base_uri": "https://localhost:8080/"
        }
      },
      "source": [
        "def resta(a = None, b = None):\n",
        "  if a == None or b == None:\n",
        "    raise Exception(\"Error, no puedo restar sin las 2 variables\")\n",
        "  return a - b\n",
        "\n",
        "def suma(a = None, b = None):\n",
        "  if a == None or b == None:\n",
        "    raise Exception(\"Error, no puedo sumar sin las 2 variables\")\n",
        "  return a + b\n",
        "\n",
        "def multiplicacion(a = None, b = None):\n",
        "   if a == None or b == None:\n",
        "    raise Exception(\"Error, no puedo multiplicar sin las 2 variables\")\n",
        "   return a * b\n",
        "\n",
        "def operaciones(numero1, numero2):\n",
        "    operacion_suma = suma(numero1, numero2)\n",
        "    operacion_resta = resta(numero1, numero2)\n",
        "    operacion_multiplicacion = multiplicacion(numero1, numero2)\n",
        "    return operacion_suma, operacion_resta, operacion_multiplicacion\n",
        "\n",
        "numero = 5\n",
        "numero2 = 10\n",
        "resultado_operaciones = operaciones(numero, numero2)\n",
        "print(\"La suma de:\", numero, \"y\", numero2, \"es\", resultado_operaciones[0])\n",
        "print(\"La resta de:\", numero, \"y\", numero2, \"es\", resultado_operaciones[1])\n",
        "print(\"La multiplicacion de:\", numero, \"y\", numero2, \"es\", resultado_operaciones[2])\n",
        "\n",
        "\n",
        "\n",
        "\n"
      ],
      "execution_count": 55,
      "outputs": [
        {
          "output_type": "stream",
          "text": [
            "La suma de: 5 y 10 es 15\n",
            "La resta de: 5 y 10 es -5\n",
            "La multiplicacion de: 5 y 10 es 50\n"
          ],
          "name": "stdout"
        }
      ]
    },
    {
      "cell_type": "code",
      "metadata": {
        "id": "q9vLQODfoXuL"
      },
      "source": [
        ""
      ],
      "execution_count": null,
      "outputs": []
    }
  ]
}