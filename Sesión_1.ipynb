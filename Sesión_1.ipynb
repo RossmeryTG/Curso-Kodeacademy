{
  "nbformat": 4,
  "nbformat_minor": 0,
  "metadata": {
    "colab": {
      "name": "Sesión 1",
      "provenance": [],
      "collapsed_sections": [],
      "authorship_tag": "ABX9TyMwF1eP6JaWNfcP6xQ2YZgt",
      "include_colab_link": true
    },
    "kernelspec": {
      "name": "python3",
      "display_name": "Python 3"
    },
    "language_info": {
      "name": "python"
    }
  },
  "cells": [
    {
      "cell_type": "markdown",
      "metadata": {
        "id": "view-in-github",
        "colab_type": "text"
      },
      "source": [
        "<a href=\"https://colab.research.google.com/github/RossmeryTG/Curso_Phyton/blob/main/Sesi%C3%B3n_1.ipynb\" target=\"_parent\"><img src=\"https://colab.research.google.com/assets/colab-badge.svg\" alt=\"Open In Colab\"/></a>"
      ]
    },
    {
      "cell_type": "markdown",
      "metadata": {
        "id": "UQXOC3GwoKNM"
      },
      "source": [
        "VARIABLES "
      ]
    },
    {
      "cell_type": "code",
      "metadata": {
        "id": "2RV6fkK7n2yD"
      },
      "source": [
        "#Creando variables\n",
        "x = 8\n",
        "y = x"
      ],
      "execution_count": null,
      "outputs": []
    },
    {
      "cell_type": "code",
      "metadata": {
        "colab": {
          "base_uri": "https://localhost:8080/"
        },
        "id": "VbsSZ0GIpGMA",
        "outputId": "790cb7f4-1120-4ee5-a21c-74c21ec25121"
      },
      "source": [
        "#Mostrando el valor x\n",
        "x"
      ],
      "execution_count": null,
      "outputs": [
        {
          "output_type": "execute_result",
          "data": {
            "text/plain": [
              "8"
            ]
          },
          "metadata": {
            "tags": []
          },
          "execution_count": 3
        }
      ]
    },
    {
      "cell_type": "code",
      "metadata": {
        "colab": {
          "base_uri": "https://localhost:8080/"
        },
        "id": "Qd8Qz3YApBzx",
        "outputId": "ed8e75a1-f274-4dae-bf78-b5db91848875"
      },
      "source": [
        "#Mostrando el valor de y\n",
        "y"
      ],
      "execution_count": null,
      "outputs": [
        {
          "output_type": "execute_result",
          "data": {
            "text/plain": [
              "8"
            ]
          },
          "metadata": {
            "tags": []
          },
          "execution_count": 5
        }
      ]
    },
    {
      "cell_type": "code",
      "metadata": {
        "colab": {
          "base_uri": "https://localhost:8080/"
        },
        "id": "2J1GjMPgpQtl",
        "outputId": "4847f734-2756-440e-8b3e-cb5128087e8c"
      },
      "source": [
        "#Mostrando por consola o pantalla\n",
        "#print(\"texto\", valor) se escribe con minúscula\n",
        "print(\"El valor de la variable y =\", y)"
      ],
      "execution_count": null,
      "outputs": [
        {
          "output_type": "stream",
          "text": [
            "El valor de la variable y = 8\n"
          ],
          "name": "stdout"
        }
      ]
    },
    {
      "cell_type": "code",
      "metadata": {
        "colab": {
          "base_uri": "https://localhost:8080/"
        },
        "id": "yLTHt1x_tkBG",
        "outputId": "b2461342-7aed-411a-bc84-74704e94cd77"
      },
      "source": [
        "#Como lo ejecuté después, el 8 (numeric) se renombra a \"Juan\" (string). \n",
        "#Es decir, sacó de su memoria el primer valor de la variable, ya que solo\n",
        "#se queda un solo valor, que es la última llamada o última ejecución\n",
        "x = 8           #1\n",
        "nombre = \"Juan\" #2\n",
        "#x = nombre      #3\n",
        "y = x           #4\n",
        "print(y)\n",
        "print(\"El valor de la variable y =\", y)"
      ],
      "execution_count": null,
      "outputs": [
        {
          "output_type": "stream",
          "text": [
            "8\n",
            "El valor de la variable y = 8\n"
          ],
          "name": "stdout"
        }
      ]
    },
    {
      "cell_type": "markdown",
      "metadata": {
        "id": "IlSQcXOHovrt"
      },
      "source": [
        "TiIPOS DE DATOS"
      ]
    },
    {
      "cell_type": "markdown",
      "metadata": {
        "id": "FwZvLRnf1kz_"
      },
      "source": [
        "Booleano"
      ]
    },
    {
      "cell_type": "code",
      "metadata": {
        "colab": {
          "base_uri": "https://localhost:8080/"
        },
        "id": "uoLkabkQp_mY",
        "outputId": "5967977d-62f0-4061-fa45-0de17625c865"
      },
      "source": [
        "#Asignando un valor booleano (True O False)\n",
        "#True o False se empiezan con mayúsculas\n",
        "variable1 = True\n",
        "variable2 = False\n",
        "\n",
        "variable1\n",
        "variable2"
      ],
      "execution_count": null,
      "outputs": [
        {
          "output_type": "execute_result",
          "data": {
            "text/plain": [
              "False"
            ]
          },
          "metadata": {
            "tags": []
          },
          "execution_count": 64
        }
      ]
    },
    {
      "cell_type": "code",
      "metadata": {
        "colab": {
          "base_uri": "https://localhost:8080/"
        },
        "id": "C14_ATnFqRWU",
        "outputId": "0e6a093c-74be-4f1a-cae9-48a8a15f19be"
      },
      "source": [
        "#Verificando el tipo de datos de una varibale\n",
        "type(variable1)\n",
        "type(variable2)"
      ],
      "execution_count": null,
      "outputs": [
        {
          "output_type": "execute_result",
          "data": {
            "text/plain": [
              "bool"
            ]
          },
          "metadata": {
            "tags": []
          },
          "execution_count": 41
        }
      ]
    },
    {
      "cell_type": "code",
      "metadata": {
        "colab": {
          "base_uri": "https://localhost:8080/"
        },
        "id": "H1DZi7xJxVhX",
        "outputId": "c29f2337-177e-45d8-a36e-a4c83cbd210e"
      },
      "source": [
        "#Tipo de dato la última vez que se ejecutó x \n",
        "type(x)"
      ],
      "execution_count": null,
      "outputs": [
        {
          "output_type": "execute_result",
          "data": {
            "text/plain": [
              "int"
            ]
          },
          "metadata": {
            "tags": []
          },
          "execution_count": 40
        }
      ]
    },
    {
      "cell_type": "code",
      "metadata": {
        "colab": {
          "base_uri": "https://localhost:8080/"
        },
        "id": "EMvD-OCRrZMF",
        "outputId": "0a11dff5-e6b1-4c52-b9c0-c87fd4c2dde4"
      },
      "source": [
        "#Comprobar si un elemnto se considera False\n",
        "bool(0)\n",
        "bool(0.0)\n",
        "bool(\"\")\n",
        "bool(None)\n",
        "bool(())\n",
        "bool([])\n",
        "bool({})"
      ],
      "execution_count": null,
      "outputs": [
        {
          "output_type": "execute_result",
          "data": {
            "text/plain": [
              "False"
            ]
          },
          "metadata": {
            "tags": []
          },
          "execution_count": 28
        }
      ]
    },
    {
      "cell_type": "code",
      "metadata": {
        "colab": {
          "base_uri": "https://localhost:8080/"
        },
        "id": "xQhdbNMxr9ZX",
        "outputId": "01dafa0a-871c-4b86-ac0f-7cf8b86edd33"
      },
      "source": [
        "#Comprobar si un elemnto se considera True \n",
        "bool(25)\n",
        "bool(-9.5)\n",
        "bool(\"abc\")\n",
        "bool((1,2,3)) #es necesario los dos corchetes\"\n",
        "bool([27, \"octubre\", 1997])\n",
        "bool({27, \"octubre\", 1997})"
      ],
      "execution_count": null,
      "outputs": [
        {
          "output_type": "execute_result",
          "data": {
            "text/plain": [
              "True"
            ]
          },
          "metadata": {
            "tags": []
          },
          "execution_count": 27
        }
      ]
    },
    {
      "cell_type": "markdown",
      "metadata": {
        "id": "kBXIGQh31qdO"
      },
      "source": [
        "Numéricos"
      ]
    },
    {
      "cell_type": "code",
      "metadata": {
        "colab": {
          "base_uri": "https://localhost:8080/"
        },
        "id": "fCKVia1nswdv",
        "outputId": "5bcf5d76-ccae-4aa8-cea5-bb8b8c0f2304"
      },
      "source": [
        "#Números enteros\n",
        "numero_entero = 8\n",
        "numero_negativo = -8\n",
        "\n",
        "numero_entero\n",
        "numero_negativo"
      ],
      "execution_count": null,
      "outputs": [
        {
          "output_type": "execute_result",
          "data": {
            "text/plain": [
              "-8"
            ]
          },
          "metadata": {
            "tags": []
          },
          "execution_count": 66
        }
      ]
    },
    {
      "cell_type": "code",
      "metadata": {
        "colab": {
          "base_uri": "https://localhost:8080/"
        },
        "id": "zg4uSg3_0LfI",
        "outputId": "d7213299-0104-46fc-bb0b-4c9034ef6c4c"
      },
      "source": [
        "#Verificando el tipo de datos de una varibale\n",
        "type(numero_entero)\n",
        "type(numero_negativo)"
      ],
      "execution_count": null,
      "outputs": [
        {
          "output_type": "execute_result",
          "data": {
            "text/plain": [
              "int"
            ]
          },
          "metadata": {
            "tags": []
          },
          "execution_count": 46
        }
      ]
    },
    {
      "cell_type": "code",
      "metadata": {
        "colab": {
          "base_uri": "https://localhost:8080/"
        },
        "id": "8NrpjnJJ0O6K",
        "outputId": "145d9317-d3f6-4848-d534-fbec91c5a4ab"
      },
      "source": [
        "#Números reales\n",
        "numero_real1 = 4.5\n",
        "numero_real2 = 0.5e-7\n",
        "\n",
        "numero_real1 \n",
        "numero_real2"
      ],
      "execution_count": null,
      "outputs": [
        {
          "output_type": "execute_result",
          "data": {
            "text/plain": [
              "5e-08"
            ]
          },
          "metadata": {
            "tags": []
          },
          "execution_count": 72
        }
      ]
    },
    {
      "cell_type": "code",
      "metadata": {
        "colab": {
          "base_uri": "https://localhost:8080/"
        },
        "id": "u_6yWprO0cHZ",
        "outputId": "6303d248-12b6-4577-b130-f5d0abe9e7e0"
      },
      "source": [
        "#Verificando el tipo de datos de una varibale\n",
        "type(numero_real1)\n",
        "type(numero_real2)"
      ],
      "execution_count": null,
      "outputs": [
        {
          "output_type": "execute_result",
          "data": {
            "text/plain": [
              "float"
            ]
          },
          "metadata": {
            "tags": []
          },
          "execution_count": 50
        }
      ]
    },
    {
      "cell_type": "code",
      "metadata": {
        "colab": {
          "base_uri": "https://localhost:8080/"
        },
        "id": "a7gRufRN0kb0",
        "outputId": "cd316052-b7a4-48f1-fc7e-cedd76720869"
      },
      "source": [
        "#Números complejos --> números formados por una parte real y otra imaginaria\n",
        "numero_complejo = 3.2 + 7j\n",
        "\n",
        "numero_complejo"
      ],
      "execution_count": null,
      "outputs": [
        {
          "output_type": "execute_result",
          "data": {
            "text/plain": [
              "(3.2+7j)"
            ]
          },
          "metadata": {
            "tags": []
          },
          "execution_count": 73
        }
      ]
    },
    {
      "cell_type": "code",
      "metadata": {
        "colab": {
          "base_uri": "https://localhost:8080/"
        },
        "id": "cSf-tp8z0u-h",
        "outputId": "0e6d62b3-e768-469d-d189-8217218d54f2"
      },
      "source": [
        "#Verificando el tipo de datos de una varibale\n",
        "type(numero_complejo)"
      ],
      "execution_count": null,
      "outputs": [
        {
          "output_type": "execute_result",
          "data": {
            "text/plain": [
              "complex"
            ]
          },
          "metadata": {
            "tags": []
          },
          "execution_count": 52
        }
      ]
    },
    {
      "cell_type": "markdown",
      "metadata": {
        "id": "kdS8_gdS1z-y"
      },
      "source": [
        "Sistemas de representación"
      ]
    },
    {
      "cell_type": "code",
      "metadata": {
        "colab": {
          "base_uri": "https://localhost:8080/"
        },
        "id": "gkW7XVb21Q4O",
        "outputId": "86274962-51fd-45f5-bbb7-1c3df0e64f8d"
      },
      "source": [
        "#El número 7 en binario se representa de la siguiente forma\n",
        "numero_binario = 0b111\n",
        "numero_binario"
      ],
      "execution_count": null,
      "outputs": [
        {
          "output_type": "execute_result",
          "data": {
            "text/plain": [
              "7"
            ]
          },
          "metadata": {
            "tags": []
          },
          "execution_count": 53
        }
      ]
    },
    {
      "cell_type": "code",
      "metadata": {
        "colab": {
          "base_uri": "https://localhost:8080/"
        },
        "id": "p0OaYDeJ1enn",
        "outputId": "b4ac8a21-dee1-4c6a-b312-9b5067bd7a8e"
      },
      "source": [
        "#Verificando el tipo de datos de una varibale\n",
        "type(numero_binario)"
      ],
      "execution_count": null,
      "outputs": [
        {
          "output_type": "execute_result",
          "data": {
            "text/plain": [
              "int"
            ]
          },
          "metadata": {
            "tags": []
          },
          "execution_count": 54
        }
      ]
    },
    {
      "cell_type": "code",
      "metadata": {
        "colab": {
          "base_uri": "https://localhost:8080/"
        },
        "id": "90zvchYm3jV1",
        "outputId": "f709aa0d-4f45-471b-e95f-8cec6bb46356"
      },
      "source": [
        "numero_binario2 = 0b1111\n",
        "numero_binario2"
      ],
      "execution_count": null,
      "outputs": [
        {
          "output_type": "execute_result",
          "data": {
            "text/plain": [
              "15"
            ]
          },
          "metadata": {
            "tags": []
          },
          "execution_count": 55
        }
      ]
    },
    {
      "cell_type": "code",
      "metadata": {
        "colab": {
          "base_uri": "https://localhost:8080/"
        },
        "id": "WOmpqWLx3THq",
        "outputId": "2d81cc28-b48b-44d2-8114-50f1ab56b0d9"
      },
      "source": [
        "#El número 8 en octal se representa de la siguiente forma\n",
        "numero_octal = 0o10\n",
        "numero_octal"
      ],
      "execution_count": null,
      "outputs": [
        {
          "output_type": "execute_result",
          "data": {
            "text/plain": [
              "8"
            ]
          },
          "metadata": {
            "tags": []
          },
          "execution_count": 56
        }
      ]
    },
    {
      "cell_type": "code",
      "metadata": {
        "colab": {
          "base_uri": "https://localhost:8080/"
        },
        "id": "nM491qqV3xZ1",
        "outputId": "bafb3db3-ea8d-4cf7-ef0d-44bd34d6d959"
      },
      "source": [
        "#Verificando el tipo de datos de una varibale\n",
        "type(numero_octal)"
      ],
      "execution_count": null,
      "outputs": [
        {
          "output_type": "execute_result",
          "data": {
            "text/plain": [
              "int"
            ]
          },
          "metadata": {
            "tags": []
          },
          "execution_count": 57
        }
      ]
    },
    {
      "cell_type": "code",
      "metadata": {
        "colab": {
          "base_uri": "https://localhost:8080/"
        },
        "id": "4FBNKGA94D9R",
        "outputId": "ac469f38-ecfd-4575-9fe1-9cbcb0676443"
      },
      "source": [
        "#El número 255 en el sistema hexadecimal se representa de la siguiente forma\n",
        "numero_hexadecimal = 0xff\n",
        "numero_hexadecimal"
      ],
      "execution_count": null,
      "outputs": [
        {
          "output_type": "execute_result",
          "data": {
            "text/plain": [
              "255"
            ]
          },
          "metadata": {
            "tags": []
          },
          "execution_count": 58
        }
      ]
    },
    {
      "cell_type": "code",
      "metadata": {
        "colab": {
          "base_uri": "https://localhost:8080/"
        },
        "id": "4xfl6XK64TDV",
        "outputId": "173d9b14-c2ec-45de-aa86-467fce6e50d3"
      },
      "source": [
        "#Verificando el tipo de datos de una varibale\n",
        "type(numero_hexadecimal)"
      ],
      "execution_count": null,
      "outputs": [
        {
          "output_type": "execute_result",
          "data": {
            "text/plain": [
              "int"
            ]
          },
          "metadata": {
            "tags": []
          },
          "execution_count": 59
        }
      ]
    },
    {
      "cell_type": "markdown",
      "metadata": {
        "id": "T8q-M06s16z_"
      },
      "source": [
        "Cadenas de texto"
      ]
    },
    {
      "cell_type": "code",
      "metadata": {
        "colab": {
          "base_uri": "https://localhost:8080/",
          "height": 35
        },
        "id": "HqwEPLjQ4WVQ",
        "outputId": "61b352ef-58c0-4f90-98e3-1fdfe21e4ba2"
      },
      "source": [
        "#Declarando una variable string\n",
        "#Siempre van entre comillas \"\" ''\n",
        "cadena = \"esto es una cadena de texto\"\n",
        "cadena"
      ],
      "execution_count": null,
      "outputs": [
        {
          "output_type": "execute_result",
          "data": {
            "application/vnd.google.colaboratory.intrinsic+json": {
              "type": "string"
            },
            "text/plain": [
              "'esto es una cadena de texto'"
            ]
          },
          "metadata": {
            "tags": []
          },
          "execution_count": 61
        }
      ]
    },
    {
      "cell_type": "code",
      "metadata": {
        "colab": {
          "base_uri": "https://localhost:8080/"
        },
        "id": "qXgwKBvz4rVZ",
        "outputId": "e1be18e4-7724-44d5-a75c-cc7f94637bd8"
      },
      "source": [
        "#Verificando el tipo de datos de una varibale\n",
        "type(cadena)"
      ],
      "execution_count": null,
      "outputs": [
        {
          "output_type": "execute_result",
          "data": {
            "text/plain": [
              "str"
            ]
          },
          "metadata": {
            "tags": []
          },
          "execution_count": 62
        }
      ]
    },
    {
      "cell_type": "code",
      "metadata": {
        "colab": {
          "base_uri": "https://localhost:8080/",
          "height": 52
        },
        "id": "v_vJGWAb5VtC",
        "outputId": "ce27c95a-cf11-45dd-c1e1-04a9aef4112a"
      },
      "source": [
        "#Para tener espacio entre las líneas se ponen 3 comillas dobles\n",
        "cadena2 = \"\"\"Esta cadena de texto \n",
        "tiene más de una línea. En concreto, cuenta\n",
        "con tres líneas diferente\"\"\"\n",
        "cadena2"
      ],
      "execution_count": null,
      "outputs": [
        {
          "output_type": "execute_result",
          "data": {
            "application/vnd.google.colaboratory.intrinsic+json": {
              "type": "string"
            },
            "text/plain": [
              "'Esta cadena de texto \\ntiene más de una línea. En concreto, cuenta\\ncon tres líneas diferente'"
            ]
          },
          "metadata": {
            "tags": []
          },
          "execution_count": 74
        }
      ]
    },
    {
      "cell_type": "code",
      "metadata": {
        "colab": {
          "base_uri": "https://localhost:8080/"
        },
        "id": "Vh_IsbHh5q2h",
        "outputId": "01b4517b-49da-4a6f-dbdb-42d471a5ceb2"
      },
      "source": [
        "#Verificando el tipo de datos de una varibale\n",
        "type(cadena2)"
      ],
      "execution_count": null,
      "outputs": [
        {
          "output_type": "execute_result",
          "data": {
            "text/plain": [
              "str"
            ]
          },
          "metadata": {
            "tags": []
          },
          "execution_count": 75
        }
      ]
    },
    {
      "cell_type": "markdown",
      "metadata": {
        "id": "xRohdfxK2JA7"
      },
      "source": [
        "Tipos de cadenas"
      ]
    },
    {
      "cell_type": "code",
      "metadata": {
        "colab": {
          "base_uri": "https://localhost:8080/"
        },
        "id": "qBzj6Dnl7bcf",
        "outputId": "2d89ede0-0c99-4d24-f5b8-0f347eb6e75b"
      },
      "source": [
        "#Unicode - byte\n",
        "cadena3 = b\"cadena de tipo byte\"\n",
        "cadena3"
      ],
      "execution_count": null,
      "outputs": [
        {
          "output_type": "execute_result",
          "data": {
            "text/plain": [
              "b'cadena de tipo byte'"
            ]
          },
          "metadata": {
            "tags": []
          },
          "execution_count": 76
        }
      ]
    },
    {
      "cell_type": "code",
      "metadata": {
        "colab": {
          "base_uri": "https://localhost:8080/"
        },
        "id": "v1jsplJA7oyF",
        "outputId": "4ecd08e0-56dd-40d3-85b3-461b3574cd50"
      },
      "source": [
        "#Verificando el tipo de datos de una varibale\n",
        "type(cadena3)"
      ],
      "execution_count": null,
      "outputs": [
        {
          "output_type": "execute_result",
          "data": {
            "text/plain": [
              "bytes"
            ]
          },
          "metadata": {
            "tags": []
          },
          "execution_count": 78
        }
      ]
    },
    {
      "cell_type": "code",
      "metadata": {
        "colab": {
          "base_uri": "https://localhost:8080/"
        },
        "id": "MMdQjrZS72O6",
        "outputId": "ab353ad5-bb46-4497-9124-a8133bf00457"
      },
      "source": [
        "#Unicode - bytearray\n",
        "latin = bytearray (\"España\", \"latin1\")\n",
        "latin"
      ],
      "execution_count": null,
      "outputs": [
        {
          "output_type": "execute_result",
          "data": {
            "text/plain": [
              "bytearray(b'Espa\\xf1a')"
            ]
          },
          "metadata": {
            "tags": []
          },
          "execution_count": 79
        }
      ]
    },
    {
      "cell_type": "code",
      "metadata": {
        "colab": {
          "base_uri": "https://localhost:8080/"
        },
        "id": "9aA8Z3lR8eUY",
        "outputId": "e0128986-23f8-4764-ebdd-bfb48ba6f6a6"
      },
      "source": [
        "#Verificando el tipo de datos de una varibale\n",
        "type(latin)"
      ],
      "execution_count": null,
      "outputs": [
        {
          "output_type": "execute_result",
          "data": {
            "text/plain": [
              "bytearray"
            ]
          },
          "metadata": {
            "tags": []
          },
          "execution_count": 80
        }
      ]
    },
    {
      "cell_type": "code",
      "metadata": {
        "colab": {
          "base_uri": "https://localhost:8080/"
        },
        "id": "LS_80mHI8hy_",
        "outputId": "432d369c-92ad-4f6b-8767-cca2d9c75c31"
      },
      "source": [
        "str = \"España\"\n",
        "array1 = bytearray(str, 'utf-8')\n",
        "array1"
      ],
      "execution_count": null,
      "outputs": [
        {
          "output_type": "execute_result",
          "data": {
            "text/plain": [
              "bytearray(b'Espa\\xc3\\xb1a')"
            ]
          },
          "metadata": {
            "tags": []
          },
          "execution_count": 81
        }
      ]
    },
    {
      "cell_type": "code",
      "metadata": {
        "colab": {
          "base_uri": "https://localhost:8080/"
        },
        "id": "FZjdU_RY96zg",
        "outputId": "ee316693-ccdf-4b99-d5c6-4927e4734b99"
      },
      "source": [
        "#Verificando el tipo de datos de una varibale\n",
        "type(array1)"
      ],
      "execution_count": null,
      "outputs": [
        {
          "output_type": "execute_result",
          "data": {
            "text/plain": [
              "bytearray"
            ]
          },
          "metadata": {
            "tags": []
          },
          "execution_count": 89
        }
      ]
    },
    {
      "cell_type": "code",
      "metadata": {
        "colab": {
          "base_uri": "https://localhost:8080/"
        },
        "id": "S7IhDOZx8yAm",
        "outputId": "0e352086-bbf7-49c0-bea9-4bd9d39eac7c"
      },
      "source": [
        "bytearray(\"España\", \"utf16\")"
      ],
      "execution_count": null,
      "outputs": [
        {
          "output_type": "execute_result",
          "data": {
            "text/plain": [
              "bytearray(b'\\xff\\xfeE\\x00s\\x00p\\x00a\\x00\\xf1\\x00a\\x00')"
            ]
          },
          "metadata": {
            "tags": []
          },
          "execution_count": 83
        }
      ]
    },
    {
      "cell_type": "code",
      "metadata": {
        "colab": {
          "base_uri": "https://localhost:8080/"
        },
        "id": "QtlWRF449PFI",
        "outputId": "99f25154-f278-416a-dfa9-9548b616c2ba"
      },
      "source": [
        "#encode(): transforma un tipo str en tipo byte\n",
        "cadena4 = \"es de tipo str\"\n",
        "cadena4.encode()"
      ],
      "execution_count": null,
      "outputs": [
        {
          "output_type": "execute_result",
          "data": {
            "text/plain": [
              "b'es de tipo str'"
            ]
          },
          "metadata": {
            "tags": []
          },
          "execution_count": 91
        }
      ]
    },
    {
      "cell_type": "code",
      "metadata": {
        "colab": {
          "base_uri": "https://localhost:8080/"
        },
        "id": "NtWyH94b94hU",
        "outputId": "fb0944a3-78f2-489e-fb0d-9b1661526b7e"
      },
      "source": [
        "#Verificando el tipo de datos de una varibale\n",
        "type(cadena4)"
      ],
      "execution_count": null,
      "outputs": [
        {
          "output_type": "execute_result",
          "data": {
            "text/plain": [
              "str"
            ]
          },
          "metadata": {
            "tags": []
          },
          "execution_count": 92
        }
      ]
    },
    {
      "cell_type": "code",
      "metadata": {
        "colab": {
          "base_uri": "https://localhost:8080/",
          "height": 35
        },
        "id": "8Kj6FdvN-KpB",
        "outputId": "aef0071d-49bb-4880-8a18-24ac5407eb77"
      },
      "source": [
        "#decode() transforma un tipo byte en tipo str\n",
        "cadena5 = b\"es de tipo byte\"\n",
        "cadena5.decode()"
      ],
      "execution_count": null,
      "outputs": [
        {
          "output_type": "execute_result",
          "data": {
            "application/vnd.google.colaboratory.intrinsic+json": {
              "type": "string"
            },
            "text/plain": [
              "'es de tipo byte'"
            ]
          },
          "metadata": {
            "tags": []
          },
          "execution_count": 93
        }
      ]
    },
    {
      "cell_type": "code",
      "metadata": {
        "colab": {
          "base_uri": "https://localhost:8080/"
        },
        "id": "QeO5Bfeq-f75",
        "outputId": "a37ad4e6-01c0-4e00-f5b5-342bd4c3b588"
      },
      "source": [
        "#Verificando el tipo de datos de una varibale\n",
        "type(cadena5)"
      ],
      "execution_count": null,
      "outputs": [
        {
          "output_type": "execute_result",
          "data": {
            "text/plain": [
              "bytes"
            ]
          },
          "metadata": {
            "tags": []
          },
          "execution_count": 94
        }
      ]
    },
    {
      "cell_type": "code",
      "metadata": {
        "colab": {
          "base_uri": "https://localhost:8080/"
        },
        "id": "tRvNxzwc_Xmd",
        "outputId": "57d49f7f-fb20-4462-e333-6b99d267593a"
      },
      "source": [
        "#El + concatena\n",
        "numero_1 = 10\n",
        "numero_2 = 12\n",
        "suma = numero_1 + numero_2\n",
        "suma"
      ],
      "execution_count": null,
      "outputs": [
        {
          "output_type": "execute_result",
          "data": {
            "text/plain": [
              "22"
            ]
          },
          "metadata": {
            "tags": []
          },
          "execution_count": 95
        }
      ]
    },
    {
      "cell_type": "code",
      "metadata": {
        "colab": {
          "base_uri": "https://localhost:8080/"
        },
        "id": "B3qeOdOr_q5H",
        "outputId": "f93d7190-2156-4744-af30-075520195cea"
      },
      "source": [
        "type(suma)"
      ],
      "execution_count": null,
      "outputs": [
        {
          "output_type": "execute_result",
          "data": {
            "text/plain": [
              "int"
            ]
          },
          "metadata": {
            "tags": []
          },
          "execution_count": 96
        }
      ]
    },
    {
      "cell_type": "code",
      "metadata": {
        "colab": {
          "base_uri": "https://localhost:8080/",
          "height": 35
        },
        "id": "oDqaaj_7_ufv",
        "outputId": "57f666cc-e9a2-4666-c0be-e8648a5d6ae1"
      },
      "source": [
        "cadena_1 = \"Rossmery\"\n",
        "cadena_2 = \"Torres\"\n",
        "union = cadena_1 + cadena_2\n",
        "union"
      ],
      "execution_count": null,
      "outputs": [
        {
          "output_type": "execute_result",
          "data": {
            "application/vnd.google.colaboratory.intrinsic+json": {
              "type": "string"
            },
            "text/plain": [
              "'RossmeryTorres'"
            ]
          },
          "metadata": {
            "tags": []
          },
          "execution_count": 97
        }
      ]
    },
    {
      "cell_type": "code",
      "metadata": {
        "colab": {
          "base_uri": "https://localhost:8080/"
        },
        "id": "BXVyIiSSAAub",
        "outputId": "1cd07476-135b-4c47-8dcc-7eac46a3cc21"
      },
      "source": [
        "type(union)"
      ],
      "execution_count": null,
      "outputs": [
        {
          "output_type": "execute_result",
          "data": {
            "text/plain": [
              "str"
            ]
          },
          "metadata": {
            "tags": []
          },
          "execution_count": 98
        }
      ]
    }
  ]
}