{
  "nbformat": 4,
  "nbformat_minor": 0,
  "metadata": {
    "colab": {
      "name": "Untitled1.ipynb",
      "provenance": [],
      "include_colab_link": true
    },
    "kernelspec": {
      "name": "python3",
      "display_name": "Python 3"
    },
    "language_info": {
      "name": "python"
    }
  },
  "cells": [
    {
      "cell_type": "markdown",
      "metadata": {
        "id": "view-in-github",
        "colab_type": "text"
      },
      "source": [
        "<a href=\"https://colab.research.google.com/github/RossmeryTG/Curso_Phyton/blob/main/Sesi%C3%B3n%204.ipynb\" target=\"_parent\"><img src=\"https://colab.research.google.com/assets/colab-badge.svg\" alt=\"Open In Colab\"/></a>"
      ]
    },
    {
      "cell_type": "markdown",
      "metadata": {
        "id": "pOiI4ErFMg4T"
      },
      "source": [
        "CLASES"
      ]
    },
    {
      "cell_type": "code",
      "metadata": {
        "colab": {
          "base_uri": "https://localhost:8080/"
        },
        "id": "6cBS5do0UeNa",
        "outputId": "c2f97b73-1644-460c-dd14-216a70c89caa"
      },
      "source": [
        "class Persona(object):\n",
        "  \"\"\"Clase que representa a una Persona\"\"\"\n",
        "\n",
        "  def __init__(self, cedula, nombre, apellido, sexo):\n",
        "      \"\"\"Constructor de clase Persona\"\"\"\n",
        "      self.cedula = cedula\n",
        "      self.nombre = nombre\n",
        "      self.apellido = apellido\n",
        "      self.sexo = sexo\n",
        "\n",
        " #def __str__(self):\n",
        " #      \"\"\"Devuelve una cadena representativa de Persona\"\"\"\n",
        " #      return \"%s: %s, %s %s, %s.\" % (\n",
        " #           self.__doc__[25:34], str(self.cedula), self.nombre, \n",
        " #           self.apellido, self.getGenero(self.sexo))\n",
        "\n",
        "  def hablar(self, mensaje):\n",
        "      \"\"\"Mostrar mensaje de saludo de Persona\"\"\"\n",
        "      return mensaje\n",
        "\n",
        "  def getGenero(self):\n",
        "    \"\"\"Mostrar el genero de la Persona\"\"\"\n",
        "    genero = (\"Masculino\", \"Femenino\")\n",
        "    if self.sexo == \"M\":\n",
        "        return genero [0]\n",
        "    elif self.sexo == \"F\":\n",
        "        return genero [1]\n",
        "    else:\n",
        "        return \"Desconocido\"\n",
        "    \n",
        "  def get_nombre_apellido(self):\n",
        "      return self.nombre + \" \" + self.apellido\n",
        "\n",
        "  def set_name(self, nuevo_nombre):\n",
        "      self.nombre = nuevo_nombre\n",
        "\n",
        "variable_persona = Persona(52362102,\"Pedro\",\"Ruiz\",\"M\")            \n",
        "\n",
        "print(variable_persona.getGenero())\n",
        "print(variable_persona.hablar)\n",
        "print(\"el nombre de la persona es:\", variable_persona.get_nombre_apellido())\n",
        "variable_persona.set_name(\"Luis\")\n",
        "print(\"el nombre de la persona es:\", variable_persona.get_nombre_apellido())"
      ],
      "execution_count": null,
      "outputs": [
        {
          "output_type": "stream",
          "text": [
            "Masculino\n",
            "<bound method Persona.hablar of <__main__.Persona object at 0x7f819423d610>>\n",
            "el nombre de la persona es: Pedro Ruiz\n",
            "el nombre de la persona es: Luis Ruiz\n"
          ],
          "name": "stdout"
        }
      ]
    },
    {
      "cell_type": "code",
      "metadata": {
        "colab": {
          "base_uri": "https://localhost:8080/"
        },
        "id": "Z01oV9K9Z160",
        "outputId": "5798a000-7685-46bb-8139-78ddd99a01b5"
      },
      "source": [
        "class Animal(object):\n",
        "  \"\"\"Clase que representa a un Animal\"\"\"\n",
        "  def __init__(self, tipo):               #aquí declaro los parámetros (instancia)\n",
        "      \"\"\"Constructor de clase Animal\"\"\"\n",
        "      self.tipo = tipo\n",
        "   \n",
        "  def getTipo(self):\n",
        "    \"\"\"Mostrar el tipo de Animal\"\"\"\n",
        "    return self.tipo\n",
        "\n",
        "  def getAlimentacion(self):\n",
        "    alimentacion = (\"omnivoro\", \"carroñero\", \"herbivoro\")\n",
        "    \"\"\"Mostrar el tipo de Animal\"\"\"\n",
        "    if self.tipo == \"Vaca\":\n",
        "        return alimentacion [2]\n",
        "    elif self.tipo == \"Perro\":\n",
        "        return alimentacion [0]\n",
        "    elif self.tipo == \"Buitre\":\n",
        "        return alimentacion [1]\n",
        "    else:\n",
        "        return \"Desconocido\"\n",
        "  \n",
        "  def getCantidad_patas(self):\n",
        "    cantidad_patas = (2, 4)\n",
        "    \"\"\"Mostrar el número de patas del Animal\"\"\"\n",
        "    if self.tipo == \"Vaca\":\n",
        "        return cantidad_patas [1]\n",
        "    elif self.tipo == \"Perro\":\n",
        "        return cantidad_patas [1]\n",
        "    elif self.tipo == \"Buitre\":\n",
        "        return cantidad_patas [0]\n",
        "    else:\n",
        "        return \"Desconocido\"\n",
        "\n",
        "  def getHabitad(self):\n",
        "    habitad = (\"acuatico\", \"terrestre\", \"aereo\")\n",
        "    \"\"\"Mostrar el habitad del Animal\"\"\"\n",
        "    if self.tipo == \"Vaca\":\n",
        "        return habitad [1]\n",
        "    elif self.tipo == \"Perro\":\n",
        "        return habitad [1]\n",
        "    elif self.tipo == \"Buitre\":\n",
        "        return habitad [2]\n",
        "    else:\n",
        "        return \"Desconocido\"\n",
        "\n",
        "variable_animal = Animal(\"Perro\")            \n",
        "\n",
        "print(\"Tipo             : \", variable_animal.getTipo()) \n",
        "print(\"Alimentacion     : \", variable_animal.getAlimentacion()) \n",
        "print(\"Cantidad de patas: \", variable_animal.getCantidad_patas())\n",
        "print(\"Habitad          : \", variable_animal.getHabitad())"
      ],
      "execution_count": null,
      "outputs": [
        {
          "output_type": "stream",
          "text": [
            "Tipo             :  Perro\n",
            "Alimentacion     :  omnivoro\n",
            "Cantidad de patas:  4\n",
            "Habitad          :  terrestre\n"
          ],
          "name": "stdout"
        }
      ]
    },
    {
      "cell_type": "code",
      "metadata": {
        "colab": {
          "base_uri": "https://localhost:8080/"
        },
        "id": "4qCpts2H865w",
        "outputId": "b09aed28-efff-461f-bdb7-d7580f62ffcc"
      },
      "source": [
        "class Animal(object):\n",
        "  \"\"\"Clase que representa a un Animal\"\"\"\n",
        "  def __init__(self, nombre, tipo, habitad):               \n",
        "      \"\"\"Constructor de clase Animal\"\"\"\n",
        "      self.nombre = nombre\n",
        "      self.tipo = tipo\n",
        "      self.habitad = habitad\n",
        "   \n",
        "  def obtener_nombre(self):\n",
        "    \"\"\"Mostrar el nombre de Animal\"\"\"\n",
        "    return self.nombre\n",
        "  \n",
        "  def obtener_tipo(self):\n",
        "    \"\"\"Mostrar el tipo de Animal\"\"\"\n",
        "    return self.tipo\n",
        "\n",
        "  def obtener_habitad(self):\n",
        "    \"\"\"Mostrar el habitad de Animal\"\"\"\n",
        "    return self.habitad\n",
        "\n",
        "clase_animal = Animal(\"Robin\", \"Perro\", \"terrestre\")  \n",
        "\n",
        "nombre_animal = clase_animal.obtener_nombre()\n",
        "tipo_animal = clase_animal.obtener_tipo()\n",
        "tipo_habitad = clase_animal.obtener_habitad()\n",
        "\n",
        "print(\"Nombre de animal: \", nombre_animal)\n",
        "print(\"Tipo de animal  : \", tipo_animal)\n",
        "print(\"Tipo de habitad : \", tipo_habitad)"
      ],
      "execution_count": null,
      "outputs": [
        {
          "output_type": "stream",
          "text": [
            "Nombre de animal:  Robin\n",
            "Tipo de animal  :  Perro\n",
            "Tipo de habitad :  terrestre\n"
          ],
          "name": "stdout"
        }
      ]
    },
    {
      "cell_type": "markdown",
      "metadata": {
        "id": "R5jHyb3RMeZe"
      },
      "source": [
        "HERENCIA"
      ]
    },
    {
      "cell_type": "code",
      "metadata": {
        "colab": {
          "base_uri": "https://localhost:8080/"
        },
        "id": "g-mzy462qDdv",
        "outputId": "d245a6b5-40bf-42c9-a1c8-1d938bdb9ba0"
      },
      "source": [
        "class Supervisor(Persona):\n",
        "    \"\"\"Clase que representa a un Supervisor\"\"\"\n",
        "\n",
        "    def __init__(self, cedula, nombre, apellido, sexo, rol):   #clase persona: cedula, nombre, apellido, sexo / clase supervisor: rol\n",
        "        \"\"\"Constructor de clase Supervisor\"\"\"\n",
        "\n",
        "        # Invoca al constructor de clase Persona\n",
        "        Persona.__init__(self, cedula, nombre, apellido, sexo)\n",
        "\n",
        "        # Nuevos atributos\n",
        "        self.rol = rol\n",
        "        self.tareas = ['10','11','12','13']\n",
        "\n",
        "    #def __str__(self):\n",
        "    #   \"\"\"Devuelve una cadena representativa al Supervisor\"\"\"\n",
        "    #   return \"%s: %s %s, rol: '%s', sus tareas: %s.\" % (\n",
        "    #       self.__doc__[26:37], self.nombre, self.apellido, \n",
        "    #       self.rol, self.consulta_tareas())\n",
        "\n",
        "    def consulta_tareas(self):\n",
        "        \"\"\"Mostrar las tareas del Supervisor\"\"\"\n",
        "        return ', '.join(self.tareas)         #', '. join()separa a los elementos con comas y sin corchetes\n",
        "\n",
        "    def consulta_rol(self):\n",
        "        \"\"\"Mostrar las tareas del Supervisor\"\"\"\n",
        "        return self.rol\n",
        "\n",
        "supervisor = Supervisor(\"V-16987456\", \"Jen\", \"Paz\", \"M\", \"Técnico\")        \n",
        "\n",
        "print(supervisor.consulta_tareas())\n",
        "print(supervisor.consulta_rol())\n",
        "print(supervisor.get_nombre_apellido())  #esta función lo heredo de la clase Persona\n",
        "print(supervisor.getGenero())            #esta función lo heredo de la clase Persona"
      ],
      "execution_count": null,
      "outputs": [
        {
          "output_type": "stream",
          "text": [
            "10, 11, 12, 13\n",
            "Técnico\n",
            "Jen Paz\n",
            "Masculino\n"
          ],
          "name": "stdout"
        }
      ]
    },
    {
      "cell_type": "code",
      "metadata": {
        "colab": {
          "base_uri": "https://localhost:8080/"
        },
        "id": "wJQ9WP3Oq6VZ",
        "outputId": "167bce2d-8d31-4bac-d1ea-7cb655308b26"
      },
      "source": [
        "class   Obrero(Persona):\n",
        "    \"\"\"Clase que representa a un Supervisor\"\"\"\n",
        "\n",
        "    def __init__(self, cedula, nombre, apellido, sexo):\n",
        "        \"\"\"Constructor de clase Supervisor\"\"\"\n",
        "\n",
        "        # Invoca al constructor de clase Persona\n",
        "        Persona.__init__(self, cedula, nombre, apellido, sexo)\n",
        "\n",
        "        # Nuevos atributos     \n",
        "        self.tareas_hoy = [\"hacer inventario\", \"gestionar compras\"]\n",
        "\n",
        "    def consulta_tareas_hoy(self):\n",
        "        \"\"\"Mostrar las tareas del Supervisor\"\"\"\n",
        "        return ', '.join(self.tareas_hoy)\n",
        "\n",
        "\n",
        "obrero1 = Obrero(\"V-12344\", \"Luis\", \"Torres\", \"M\")    \n",
        "\n",
        "print(\"Nombre y apellido: \", obrero1.get_nombre_apellido())\n",
        "print(\"DNI              : \", obrero1.cedula)\n",
        "print(\"Sexo             : \", obrero1.sexo)\n",
        "print(\"Tareas           : \", obrero1.consulta_tareas_hoy())"
      ],
      "execution_count": null,
      "outputs": [
        {
          "output_type": "stream",
          "text": [
            "Nombre y apellido:  Luis Torres\n",
            "DNI              :  V-12344\n",
            "Sexo             :  M\n",
            "Tareas           :  hacer inventario, gestionar compras\n"
          ],
          "name": "stdout"
        }
      ]
    },
    {
      "cell_type": "markdown",
      "metadata": {
        "id": "4JBF2M1sVieD"
      },
      "source": [
        "MANIPULANDO FECHA Y CADENAS"
      ]
    },
    {
      "cell_type": "markdown",
      "metadata": {
        "id": "xJau5J4UK0p6"
      },
      "source": [
        "dt.time refiere a hora, minuto y segundo"
      ]
    },
    {
      "cell_type": "code",
      "metadata": {
        "colab": {
          "base_uri": "https://localhost:8080/"
        },
        "id": "7lHDNmBAuyte",
        "outputId": "74488000-250f-403e-f2ee-f187587ad3cc"
      },
      "source": [
        "import datetime as dt\n",
        "print(dt.time(1), \"1 Hora\")\n",
        "\n",
        "print(dt.time(2, 30), \"2 Horas y 30 minutos\")\n",
        "\n",
        "print(dt.time(3, 45, 30), \"3 Horas, 45 minutos y 30 segundos\")\n",
        "\n",
        "def get_hora(hora, minutos=0, segundos=0):\n",
        "    return dt.time(hora, minutos, segundos)   #dt.time(3, 45, 30)\n",
        "\n",
        "print(\"la cuenta regresiva inicia en: \", get_hora(5, 34, 55))\n",
        "print(\"la cuenta regresiva inicia en: \", get_hora(5))\n",
        "type(get_hora)"
      ],
      "execution_count": null,
      "outputs": [
        {
          "output_type": "stream",
          "text": [
            "01:00:00 1 Hora\n",
            "02:30:00 2 Horas y 30 minutos\n",
            "03:45:30 3 Horas, 45 minutos y 30 segundos\n",
            "la cuenta regresiva inicia en:  05:34:55\n",
            "la cuenta regresiva inicia en:  05:00:00\n"
          ],
          "name": "stdout"
        },
        {
          "output_type": "execute_result",
          "data": {
            "text/plain": [
              "function"
            ]
          },
          "metadata": {
            "tags": []
          },
          "execution_count": 40
        }
      ]
    },
    {
      "cell_type": "markdown",
      "metadata": {
        "id": "JEPv2AE4K59M"
      },
      "source": [
        "dt.datetime refiere a año, mes, día, hora, minuto y segundo"
      ]
    },
    {
      "cell_type": "code",
      "metadata": {
        "colab": {
          "base_uri": "https://localhost:8080/"
        },
        "id": "238q77KVv3Oi",
        "outputId": "19d534bb-663f-41cd-ba1e-272973c4cbfb"
      },
      "source": [
        "now = dt.datetime.now()\n",
        "\n",
        "print(now)\n",
        "print(\"Fecha\\n\")      #el \"\\n\" significa un espacio arriba o abajo\n",
        "print(now.year)\n",
        "print(now.month)\n",
        "print(now.day)\n",
        "\n",
        "print(\"\\nTiempo\\n\")\n",
        "print(\"La hora actual es:   \", now.hour)\n",
        "print(\"El minuto actual es: \", now.minute)\n",
        "print(\"El segundo actual es:\", now.second)\n",
        "\n",
        "type(now)"
      ],
      "execution_count": null,
      "outputs": [
        {
          "output_type": "stream",
          "text": [
            "2021-07-09 03:45:02.240332\n",
            "Fecha\n",
            "\n",
            "2021\n",
            "7\n",
            "9\n",
            "\n",
            "Tiempo\n",
            "\n",
            "La hora actual es:    3\n",
            "El minuto actual es:  45\n",
            "El segundo actual es: 2\n"
          ],
          "name": "stdout"
        },
        {
          "output_type": "execute_result",
          "data": {
            "text/plain": [
              "datetime.datetime"
            ]
          },
          "metadata": {
            "tags": []
          },
          "execution_count": 43
        }
      ]
    },
    {
      "cell_type": "markdown",
      "metadata": {
        "id": "etSOsdBJMA7R"
      },
      "source": [
        "dt.datetime es necesario pasar los atributos de año, mes y día; los de tiempo son opcionales."
      ]
    },
    {
      "cell_type": "code",
      "metadata": {
        "colab": {
          "base_uri": "https://localhost:8080/"
        },
        "id": "jkXOKeaUxqhX",
        "outputId": "67280036-2377-44ce-d611-9028b3f10dc1"
      },
      "source": [
        "navidad_date = dt.datetime(2021, 12, 25)\n",
        "print(navidad_date)\n",
        "type(navidad_date)"
      ],
      "execution_count": null,
      "outputs": [
        {
          "output_type": "stream",
          "text": [
            "2021-12-25 00:00:00\n"
          ],
          "name": "stdout"
        },
        {
          "output_type": "execute_result",
          "data": {
            "text/plain": [
              "datetime.datetime"
            ]
          },
          "metadata": {
            "tags": []
          },
          "execution_count": 48
        }
      ]
    },
    {
      "cell_type": "code",
      "metadata": {
        "colab": {
          "base_uri": "https://localhost:8080/"
        },
        "id": "SVW22WFzx6Vt",
        "outputId": "dd64418a-7482-42c9-eb63-d6225d33271b"
      },
      "source": [
        "diff = navidad_date - now\n",
        "print(diff)\n",
        "type(diff)"
      ],
      "execution_count": null,
      "outputs": [
        {
          "output_type": "stream",
          "text": [
            "168 days, 21:14:10.934124\n"
          ],
          "name": "stdout"
        },
        {
          "output_type": "execute_result",
          "data": {
            "text/plain": [
              "datetime.timedelta"
            ]
          },
          "metadata": {
            "tags": []
          },
          "execution_count": 34
        }
      ]
    },
    {
      "cell_type": "markdown",
      "metadata": {
        "id": "eE6vceuOLpsR"
      },
      "source": [
        "dt.timedelta refiere a días y horas"
      ]
    },
    {
      "cell_type": "code",
      "metadata": {
        "colab": {
          "base_uri": "https://localhost:8080/"
        },
        "id": "4cYqBjAjyLOs",
        "outputId": "a2e3c391-5542-4974-b1b0-59570f0f00b0"
      },
      "source": [
        "inc = dt.timedelta(days = 45, hours = 7)\n",
        "suma = now - inc\n",
        "print(now)\n",
        "print(inc)\n",
        "print(suma)\n",
        "type(inc)\n",
        "type(suma)"
      ],
      "execution_count": null,
      "outputs": [
        {
          "output_type": "execute_result",
          "data": {
            "text/plain": [
              "datetime.datetime"
            ]
          },
          "metadata": {
            "tags": []
          },
          "execution_count": 49
        }
      ]
    }
  ]
}