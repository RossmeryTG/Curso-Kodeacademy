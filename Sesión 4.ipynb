{
  "nbformat": 4,
  "nbformat_minor": 0,
  "metadata": {
    "colab": {
      "name": "Untitled1.ipynb",
      "provenance": [],
      "authorship_tag": "ABX9TyMf8XjKOmScwMQIA//q19/O",
      "include_colab_link": true
    },
    "kernelspec": {
      "name": "python3",
      "display_name": "Python 3"
    },
    "language_info": {
      "name": "python"
    }
  },
  "cells": [
    {
      "cell_type": "markdown",
      "metadata": {
        "id": "view-in-github",
        "colab_type": "text"
      },
      "source": [
        "<a href=\"https://colab.research.google.com/github/RossmeryTG/Curso_Phyton/blob/main/Sesi%C3%B3n%204.ipynb\" target=\"_parent\"><img src=\"https://colab.research.google.com/assets/colab-badge.svg\" alt=\"Open In Colab\"/></a>"
      ]
    },
    {
      "cell_type": "code",
      "metadata": {
        "colab": {
          "base_uri": "https://localhost:8080/"
        },
        "id": "6cBS5do0UeNa",
        "outputId": "216340be-ef6b-4ac2-bc2d-3bbbb9647063"
      },
      "source": [
        "class Persona(object):\n",
        "  \"\"\"Clase que representa a una Persona\"\"\"\n",
        "\n",
        "  def __init__(self, cedula, nombre, apellido, sexo):\n",
        "      \"\"\"Constructor de clase Persona\"\"\"\n",
        "      self.cedula = cedula\n",
        "      self. nombre = nombre\n",
        "      self.apellido = apellido\n",
        "      self.sexo = sexo\n",
        "\n",
        "  def hablar(self, mensaje):\n",
        "      \"\"\"Mostrar mensake de saludo de Persona\"\"\"\n",
        "      return mensaje\n",
        "\n",
        "  def getGenero(self):\n",
        "    \"\"\"Mostrar el genero de la Persona\"\"\"\n",
        "    genero = (\"Masculino\", \"Femenino\")\n",
        "    if self.sexo == \"M\":\n",
        "        return genero [0]\n",
        "    elif self.sexo == \"F\":\n",
        "        return genero [1]\n",
        "    else:\n",
        "        return \"Desconocido\"\n",
        "    \n",
        "  def get_nombre_apellido(self):\n",
        "      return self.nombre + \" \" + self.apellido\n",
        "\n",
        "  def set_name(Self, nuevo_nombre):\n",
        "      self.nombre = nuevo_nombre\n",
        "\n",
        "variable_persona = Persona(52362102,\"Pedro\",\"Ruiz\",\"M\")            \n",
        "\n",
        "print(variable_persona.getGenero())\n",
        "print(variable_persona.getGenero())\n",
        "print(\"el nombre de la persona es:\", variable_persona.get_nombre_apellido())\n"
      ],
      "execution_count": 23,
      "outputs": [
        {
          "output_type": "stream",
          "text": [
            "Masculino\n",
            "Masculino\n",
            "el nombre de la persona es: Pedro Ruiz\n"
          ],
          "name": "stdout"
        }
      ]
    },
    {
      "cell_type": "code",
      "metadata": {
        "id": "xFU3wPSaeEeO"
      },
      "source": [
        ""
      ],
      "execution_count": null,
      "outputs": []
    },
    {
      "cell_type": "code",
      "metadata": {
        "colab": {
          "base_uri": "https://localhost:8080/"
        },
        "id": "Z01oV9K9Z160",
        "outputId": "8d8f7169-79aa-4f7d-be03-68e8f6962efe"
      },
      "source": [
        "class Animal(object):\n",
        "  \"\"\"Clase que representa a un Animal\"\"\"\n",
        "  def __init__(self, tipo):\n",
        "      \"\"\"Constructor de clase Animal\"\"\"\n",
        "      self.tipo = tipo\n",
        "   \n",
        "  def getTipo(self):\n",
        "    \"\"\"Mostrar el tipo de Animal\"\"\"\n",
        "    return self.tipo\n",
        "\n",
        "  def getAlimentacion(self):\n",
        "    alimentacion = (\"omnivoro\", \"carroñero\", \"herbiboro\")\n",
        "    \"\"\"Mostrar el tipo de Animal\"\"\"\n",
        "    if self.tipo == \"Vaca\":\n",
        "        return alimentacion [2]\n",
        "    elif self.tipo == \"Perro\":\n",
        "        return alimentacion [0]\n",
        "    elif self.tipo == \"Buitre\":\n",
        "        return alimentacion [1]\n",
        "    else:\n",
        "        return \"Desconocido\"\n",
        "  \n",
        "  def getCantidad_patas(self):\n",
        "    cantidad_patas = (2, 4)\n",
        "    \"\"\"Mostrar el número de patas del Animal\"\"\"\n",
        "    if self.tipo == \"Vaca\":\n",
        "        return cantidad_patas [1]\n",
        "    elif self.tipo == \"Perro\":\n",
        "        return cantidad_patas [1]\n",
        "    elif self.tipo == \"Buitre\":\n",
        "        return cantidad_patas [0]\n",
        "    else:\n",
        "        return \"Desconocido\"\n",
        "\n",
        "  def getHabitad(self):\n",
        "    habitad = (\"acuatico\", \"terrestre\", \"aereo\")\n",
        "    \"\"\"Mostrar el habitad del Animal\"\"\"\n",
        "    if self.tipo == \"Vaca\":\n",
        "        return habitad [1]\n",
        "    elif self.tipo == \"Perro\":\n",
        "        return habitad [1]\n",
        "    elif self.tipo == \"Buitre\":\n",
        "        return habitad [2]\n",
        "    else:\n",
        "        return \"Desconocido\"\n",
        "\n",
        "variable_animal = Animal(\"Perro\")            \n",
        "\n",
        "print(\"Tipo: \", variable_animal.getTipo()) \n",
        "print(\"Alimentacion: \", variable_animal.getAlimentacion()) \n",
        "print(\"Cantidad de patas: \", variable_animal.getCantidad_patas())\n",
        "print(\"Cantidad de patas: \", variable_animal.getHabitad())"
      ],
      "execution_count": 22,
      "outputs": [
        {
          "output_type": "stream",
          "text": [
            "Tipo:  Perro\n",
            "Alimentacion:  omnivoro\n",
            "Cantidad de patas:  4\n",
            "Cantidad de patas:  terrestre\n"
          ],
          "name": "stdout"
        }
      ]
    },
    {
      "cell_type": "code",
      "metadata": {
        "id": "Pn5KhXH1e6AX"
      },
      "source": [
        "class Animal(object):\n",
        "  \"\"\"Clase que representa a un Animal\"\"\"\n",
        "\n",
        "  def __init__(self, tipo, alimentacion, num_patas, funciones):\n",
        "      \"\"\"Constructor de clase Persona\"\"\"\n",
        "      self.tipo = tipo\n",
        "      self.alimentacion = alimentacion\n",
        "      self.num_patas = num_patas\n",
        "      self.funciones = funciones\n",
        "\n",
        "  def getTipo(self):\n",
        "    \"\"\"Mostrar el tipo de Animal\"\"\"\n",
        "      return self.tipo\n",
        "\n",
        "  def getAlimentacion(self):\n",
        "    \"\"\"Mostrar el tipo de Animal\"\"\"\n",
        "    if self.alimentacion == \"omnivoro\":\n",
        "        return alimentacion [2]\n",
        "    elif self.tipo == \"Perro\":\n",
        "        return alimentacion [0]\n",
        "    elif self.tipo == \"Buitre\":\n",
        "        return alimentacion [2]\n",
        "    else:\n",
        "        return \"Desconocido\"\n",
        "  \n",
        "  def getCantidad_patas(self):\n",
        "    cantidad_patas = (2, 4)\n",
        "    \"\"\"Mostrar el número de patas del Animal\"\"\"\n",
        "    if self.tipo == \"Vaca\":\n",
        "        return cantidad_patas [1]\n",
        "    elif self.tipo == \"Perro\":\n",
        "        return cantidad_patas [1]\n",
        "    elif self.tipo == \"Buitre\":\n",
        "        return cantidad_patas [0]\n",
        "    else:\n",
        "        return \"Desconocido\"\n",
        "\n",
        "  def getHabitad(self):\n",
        "    habitad = (\"acuatico\", \"terrestre\", \"aereo\")\n",
        "    \"\"\"Mostrar el habitad del Animal\"\"\"\n",
        "    if self.tipo == \"Vaca\":\n",
        "        return habitad [1]\n",
        "    elif self.tipo == \"Perro\":\n",
        "        return habitad [1]\n",
        "    elif self.tipo == \"Buitre\":\n",
        "        return habitad [2]\n",
        "    else:\n",
        "        return \"Desconocido\"\n",
        "\n",
        "variable_animal = Animal(\"Perro\")            \n",
        "\n",
        "print(variable_animal.getHabitad())"
      ],
      "execution_count": null,
      "outputs": []
    },
    {
      "cell_type": "code",
      "metadata": {
        "colab": {
          "base_uri": "https://localhost:8080/"
        },
        "id": "g-mzy462qDdv",
        "outputId": "f72442ba-495d-44a0-cc4f-4fbd26fe0894"
      },
      "source": [
        "class Supervisor(Persona):\n",
        "    \"\"\"Clase que representa a un Supervisor\"\"\"\n",
        "\n",
        "    def __init__(self, cedula, nombre, apellido, sexo, rol):\n",
        "        \"\"\"Constructor de clase Supervisor\"\"\"\n",
        "\n",
        "        # Invoca al constructor de clase Persona\n",
        "        Persona.__init__(self, cedula, nombre, apellido, sexo)\n",
        "\n",
        "        # Nuevos atributos\n",
        "        self.rol = rol\n",
        "        self.tareas = ['10','11','12','13']\n",
        "\n",
        "    def __str__(self):\n",
        "        \"\"\"Devuelve una cadena representativa al Supervisor\"\"\"\n",
        "        return \"%s: %s %s, rol: '%s', sus tareas: %s.\" % (\n",
        "            self.__doc__[26:37], self.nombre, self.apellido, \n",
        "            self.rol, self.consulta_tareas())\n",
        "\n",
        "    def consulta_tareas(self):\n",
        "        \"\"\"Mostrar las tareas del Supervisor\"\"\"\n",
        "        return ', '.join(self.tareas)\n",
        "\n",
        "\n",
        "supervisor = Supervisor(\"V-16987456\", \"Jen\", \"Paz\", \"M\", \"Técnico\")         \n",
        "print(supervisor.consulta_tareas())\n",
        "print(supervisor.get_nombre_apellido())"
      ],
      "execution_count": 36,
      "outputs": [
        {
          "output_type": "stream",
          "text": [
            "10, 11, 12, 13\n",
            "Jen Paz\n"
          ],
          "name": "stdout"
        }
      ]
    },
    {
      "cell_type": "code",
      "metadata": {
        "colab": {
          "base_uri": "https://localhost:8080/"
        },
        "id": "wJQ9WP3Oq6VZ",
        "outputId": "2733090e-707b-43cc-da36-97840dec68ba"
      },
      "source": [
        "class   Obrero(Persona):\n",
        "    \"\"\"Clase que representa a un Supervisor\"\"\"\n",
        "\n",
        "    def __init__(self, cedula, nombre, apellido, sexo):\n",
        "        \"\"\"Constructor de clase Supervisor\"\"\"\n",
        "\n",
        "        # Invoca al constructor de clase Persona\n",
        "        Persona.__init__(self, cedula, nombre, apellido, sexo)\n",
        "\n",
        "        # Nuevos atributos     \n",
        "        self.tareas_hoy = [\"hacer inventario\", \"gestionar compras\"]\n",
        "\n",
        "    def consulta_tareas_hoy(self):\n",
        "        \"\"\"Mostrar las tareas del Supervisor\"\"\"\n",
        "        return ', '.join(self.tareas_hoy)\n",
        "\n",
        "\n",
        "obrero1 = Obrero(\"V-12344\", \"Luis\", \"Torres\", \"M\")         \n",
        "print(obrero1.consulta_tareas_hoy())\n",
        "print(obrero1.get_nombre_apellido())"
      ],
      "execution_count": 41,
      "outputs": [
        {
          "output_type": "stream",
          "text": [
            "hacer inventario, gestionar compras\n",
            "Luis Torres\n"
          ],
          "name": "stdout"
        }
      ]
    },
    {
      "cell_type": "code",
      "metadata": {
        "colab": {
          "base_uri": "https://localhost:8080/"
        },
        "id": "7lHDNmBAuyte",
        "outputId": "f27dc000-1187-4f7d-d07a-cf2b8f86472b"
      },
      "source": [
        "import datetime as dt\n",
        "print(dt.time(1), \"1 Hora\")\n",
        "\n",
        "print(dt.time(2, 30), \"2 Horas y 30 minutos\")\n",
        "\n",
        "print(dt.time(3, 45, 30), \"3 Horas, 45 minutos y 30 segundos\")\n",
        "\n",
        "def get_hora(hora, minutos=0, segundos=0):\n",
        "    return dt.time(hora, minutos, segundos)\n",
        "\n",
        "print(\"la cuenta regresiva inicia en: \", get_hora(5, 34, 55))"
      ],
      "execution_count": 46,
      "outputs": [
        {
          "output_type": "stream",
          "text": [
            "01:00:00 1 Hora\n",
            "02:30:00 2 Horas y 30 minutos\n",
            "03:45:30 3 Horas, 45 minutos y 30 segundos\n",
            "la cuenta regresiva inicia en:  05:34:55\n"
          ],
          "name": "stdout"
        }
      ]
    },
    {
      "cell_type": "code",
      "metadata": {
        "colab": {
          "base_uri": "https://localhost:8080/"
        },
        "id": "238q77KVv3Oi",
        "outputId": "594240f6-6716-4563-b5a0-2e63a802ecc2"
      },
      "source": [
        "now = dt.datetime.now()\n",
        "print(now)\n",
        "print(now.year)\n",
        "print(now.month)\n",
        "print(now.day)"
      ],
      "execution_count": 52,
      "outputs": [
        {
          "output_type": "stream",
          "text": [
            "2021-06-23 02:49:21.395554\n",
            "2021\n",
            "6\n",
            "23\n"
          ],
          "name": "stdout"
        }
      ]
    },
    {
      "cell_type": "code",
      "metadata": {
        "colab": {
          "base_uri": "https://localhost:8080/"
        },
        "id": "jkXOKeaUxqhX",
        "outputId": "a134200a-cbd0-485b-cae4-cbf0ae8d089d"
      },
      "source": [
        "navidad_date = dt.datetime(2021, 12, 25)\n",
        "print(navidad_date)"
      ],
      "execution_count": 53,
      "outputs": [
        {
          "output_type": "stream",
          "text": [
            "2021-12-25 00:00:00\n"
          ],
          "name": "stdout"
        }
      ]
    },
    {
      "cell_type": "code",
      "metadata": {
        "colab": {
          "base_uri": "https://localhost:8080/"
        },
        "id": "SVW22WFzx6Vt",
        "outputId": "e919ee6c-7c0d-4506-a29b-572490e9bdfd"
      },
      "source": [
        "diff = navidad_date - now\n",
        "print(navidad_date)\n",
        "type(diff)"
      ],
      "execution_count": 54,
      "outputs": [
        {
          "output_type": "stream",
          "text": [
            "2021-12-25 00:00:00\n"
          ],
          "name": "stdout"
        },
        {
          "output_type": "execute_result",
          "data": {
            "text/plain": [
              "datetime.timedelta"
            ]
          },
          "metadata": {
            "tags": []
          },
          "execution_count": 54
        }
      ]
    },
    {
      "cell_type": "code",
      "metadata": {
        "colab": {
          "base_uri": "https://localhost:8080/"
        },
        "id": "4cYqBjAjyLOs",
        "outputId": "1393ec15-50a4-4463-81d1-f43060121f6c"
      },
      "source": [
        "inc = dt.timedelta(days = 45, hours = 7)\n",
        "print(now)\n",
        "print(inc)\n",
        "print(now + inc)"
      ],
      "execution_count": 55,
      "outputs": [
        {
          "output_type": "stream",
          "text": [
            "2021-06-23 02:49:21.395554\n",
            "45 days, 7:00:00\n",
            "2021-08-07 09:49:21.395554\n"
          ],
          "name": "stdout"
        }
      ]
    }
  ]
}