{
  "nbformat": 4,
  "nbformat_minor": 0,
  "metadata": {
    "colab": {
      "name": "Rossmery_Torres.ipynb",
      "provenance": [],
      "collapsed_sections": [],
      "include_colab_link": true
    },
    "kernelspec": {
      "name": "python3",
      "display_name": "Python 3"
    },
    "language_info": {
      "name": "python"
    }
  },
  "cells": [
    {
      "cell_type": "markdown",
      "metadata": {
        "id": "view-in-github",
        "colab_type": "text"
      },
      "source": [
        "<a href=\"https://colab.research.google.com/github/RossmeryTG/Curso_Phyton/blob/main/Sesi%C3%B3n%202.ipynb\" target=\"_parent\"><img src=\"https://colab.research.google.com/assets/colab-badge.svg\" alt=\"Open In Colab\"/></a>"
      ]
    },
    {
      "cell_type": "code",
      "metadata": {
        "colab": {
          "base_uri": "https://localhost:8080/"
        },
        "id": "NAfSi3X3o5Ws",
        "outputId": "ce53bf2c-4f7c-4a93-b20c-c5e1445d2701"
      },
      "source": [
        "x = 8\n",
        "y = x\n",
        "print(y)"
      ],
      "execution_count": null,
      "outputs": [
        {
          "output_type": "stream",
          "text": [
            "8\n"
          ],
          "name": "stdout"
        }
      ]
    },
    {
      "cell_type": "code",
      "metadata": {
        "id": "WRsEg95SmG8h",
        "colab": {
          "base_uri": "https://localhost:8080/"
        },
        "outputId": "3eb1b21e-51c9-4610-f622-91449f12c11d"
      },
      "source": [
        "#Crear una lista \n",
        "datos_personales = [\"Rossmery Torres\", 22, True, \"Lima\"]\n",
        "datos_personales\n",
        "print(datos_personales)"
      ],
      "execution_count": null,
      "outputs": [
        {
          "output_type": "stream",
          "text": [
            "['Rossmery Torres', 22, True, 'Lima']\n"
          ],
          "name": "stdout"
        }
      ]
    },
    {
      "cell_type": "code",
      "metadata": {
        "id": "3vhr1C3tnbrM",
        "colab": {
          "base_uri": "https://localhost:8080/"
        },
        "outputId": "e0c5ae3c-5194-40c5-a6db-7ac0cf0e53f4"
      },
      "source": [
        "type(datos_personales)"
      ],
      "execution_count": null,
      "outputs": [
        {
          "output_type": "execute_result",
          "data": {
            "text/plain": [
              "list"
            ]
          },
          "metadata": {
            "tags": []
          },
          "execution_count": 4
        }
      ]
    },
    {
      "cell_type": "markdown",
      "metadata": {
        "id": "xtLVlO3Pmdpc"
      },
      "source": [
        "1. Crear una lista con nombre, edad, si es estudiante, departamento donde viven\n"
      ]
    },
    {
      "cell_type": "code",
      "metadata": {
        "id": "iYY9Ee0XnvpW",
        "colab": {
          "base_uri": "https://localhost:8080/",
          "height": 35
        },
        "outputId": "32150c6d-0c8d-4f74-c35b-f6cc5a86786a"
      },
      "source": [
        "#En Python se empieza con la posición 0\n",
        "nombre_apellido = datos_personales[0]\n",
        "nombre_apellido"
      ],
      "execution_count": null,
      "outputs": [
        {
          "output_type": "execute_result",
          "data": {
            "application/vnd.google.colaboratory.intrinsic+json": {
              "type": "string"
            },
            "text/plain": [
              "'Rossmery Torres'"
            ]
          },
          "metadata": {
            "tags": []
          },
          "execution_count": 7
        }
      ]
    },
    {
      "cell_type": "code",
      "metadata": {
        "id": "kbd92m4An_7a",
        "colab": {
          "base_uri": "https://localhost:8080/",
          "height": 35
        },
        "outputId": "33987948-b8fe-459f-e440-05f61b327c61"
      },
      "source": [
        "nombre_apellido = datos_personales[3]\n",
        "nombre_apellido"
      ],
      "execution_count": null,
      "outputs": [
        {
          "output_type": "execute_result",
          "data": {
            "application/vnd.google.colaboratory.intrinsic+json": {
              "type": "string"
            },
            "text/plain": [
              "'Lima'"
            ]
          },
          "metadata": {
            "tags": []
          },
          "execution_count": 8
        }
      ]
    },
    {
      "cell_type": "code",
      "metadata": {
        "id": "2yOLYIlZoVzp",
        "colab": {
          "base_uri": "https://localhost:8080/"
        },
        "outputId": "bf691f03-ad02-4ff4-ebed-aee92f26761f"
      },
      "source": [
        "#Todo lo antes del index\n",
        "datos_personales2 = datos_personales[:2]\n",
        "datos_personales2"
      ],
      "execution_count": null,
      "outputs": [
        {
          "output_type": "execute_result",
          "data": {
            "text/plain": [
              "['Rossmery Torres', 22]"
            ]
          },
          "metadata": {
            "tags": []
          },
          "execution_count": 9
        }
      ]
    },
    {
      "cell_type": "code",
      "metadata": {
        "id": "h-urZ9futhCv",
        "colab": {
          "base_uri": "https://localhost:8080/",
          "height": 35
        },
        "outputId": "e43ef39d-ccbb-44fe-db26-601179273c1c"
      },
      "source": [
        "departamento = datos_personales [3]\n",
        "departamento"
      ],
      "execution_count": null,
      "outputs": [
        {
          "output_type": "execute_result",
          "data": {
            "application/vnd.google.colaboratory.intrinsic+json": {
              "type": "string"
            },
            "text/plain": [
              "'Cuszo'"
            ]
          },
          "metadata": {
            "tags": []
          },
          "execution_count": 37
        }
      ]
    },
    {
      "cell_type": "code",
      "metadata": {
        "id": "Revk2JR8pywI",
        "colab": {
          "base_uri": "https://localhost:8080/"
        },
        "outputId": "a68e6b35-e5f1-42f7-bab0-71cb87de0cb0"
      },
      "source": [
        "#La última variable\n",
        "datos_personales2[-1]\n",
        "datos_personales [-2]"
      ],
      "execution_count": null,
      "outputs": [
        {
          "output_type": "execute_result",
          "data": {
            "text/plain": [
              "True"
            ]
          },
          "metadata": {
            "tags": []
          },
          "execution_count": 15
        }
      ]
    },
    {
      "cell_type": "code",
      "metadata": {
        "id": "93KmkRWNqe03",
        "colab": {
          "base_uri": "https://localhost:8080/"
        },
        "outputId": "165ed5df-c88f-40d8-ea33-68b7555c64b5"
      },
      "source": [
        "datos_personales[1:3]"
      ],
      "execution_count": null,
      "outputs": [
        {
          "output_type": "execute_result",
          "data": {
            "text/plain": [
              "[22, True]"
            ]
          },
          "metadata": {
            "tags": []
          },
          "execution_count": 20
        }
      ]
    },
    {
      "cell_type": "code",
      "metadata": {
        "id": "gYXkByGCrTXf",
        "colab": {
          "base_uri": "https://localhost:8080/"
        },
        "outputId": "bb43d63a-1921-4de0-b0f8-fca27eb65f50"
      },
      "source": [
        "datos_personales[0]='Juan Salinas'\n",
        "datos_personales\n",
        "datos_personales[3]='Cuszo'\n",
        "datos_personales"
      ],
      "execution_count": null,
      "outputs": [
        {
          "output_type": "execute_result",
          "data": {
            "text/plain": [
              "['Juan Salinas', 22, True, 'Cuszo']"
            ]
          },
          "metadata": {
            "tags": []
          },
          "execution_count": 24
        }
      ]
    },
    {
      "cell_type": "markdown",
      "metadata": {
        "id": "MO9Sa6HDsDLK"
      },
      "source": [
        "Tupla"
      ]
    },
    {
      "cell_type": "code",
      "metadata": {
        "id": "XKuOIfO_sCy3",
        "colab": {
          "base_uri": "https://localhost:8080/"
        },
        "outputId": "61fc98cf-8499-4b94-e82e-334ccc183fc2"
      },
      "source": [
        "datos_personales_tupla=(\"Rossmery Torres\", 18, True,\"Arequipa\")\n",
        "datos_personales_tupla\n",
        "type(datos_personales_tupla)\n"
      ],
      "execution_count": 2,
      "outputs": [
        {
          "output_type": "execute_result",
          "data": {
            "text/plain": [
              "tuple"
            ]
          },
          "metadata": {
            "tags": []
          },
          "execution_count": 2
        }
      ]
    },
    {
      "cell_type": "code",
      "metadata": {
        "id": "Xpou7UNrr_iW",
        "colab": {
          "base_uri": "https://localhost:8080/"
        },
        "outputId": "4cbb0088-a60a-41fd-aefb-c7cf2a0fbaad"
      },
      "source": [
        "type(datos_personales_tupla)"
      ],
      "execution_count": 3,
      "outputs": [
        {
          "output_type": "execute_result",
          "data": {
            "text/plain": [
              "tuple"
            ]
          },
          "metadata": {
            "tags": []
          },
          "execution_count": 3
        }
      ]
    },
    {
      "cell_type": "code",
      "metadata": {
        "id": "7TL_YGcXxbpP",
        "colab": {
          "base_uri": "https://localhost:8080/"
        },
        "outputId": "3aa99387-71ae-4da2-d392-f4de07eff72f"
      },
      "source": [
        "datos_personales_diccioneario = { \n",
        "  \"nombre\" : \"Rossmery Torres\",\n",
        "  \"edad\" : 22,\n",
        "  \"es_estudiante\" : True,\n",
        "  \"departamento\" : \"Cusco\"\n",
        "}\n",
        "datos_personales_diccioneario\n",
        "type(datos_personales_diccioneario)\n"
      ],
      "execution_count": 4,
      "outputs": [
        {
          "output_type": "execute_result",
          "data": {
            "text/plain": [
              "dict"
            ]
          },
          "metadata": {
            "tags": []
          },
          "execution_count": 4
        }
      ]
    },
    {
      "cell_type": "code",
      "metadata": {
        "id": "djiIiLzBzsuu",
        "outputId": "fe0f1654-b56c-4ef7-d614-804a68e4f8bd",
        "colab": {
          "base_uri": "https://localhost:8080/"
        }
      },
      "source": [
        "import pandas as pd\n",
        "#Creando listas\n",
        "nombres=[\"Rossmery\", \"Susan\", \"Kevin\", \"Nicolas\"]\n",
        "edad=[22, 21, 23, 26]\n",
        "pais=[\"Ecuador\", \"Perú\", \"Brasil\", \"Argentina\"]\n",
        "educación=[\"Bachiller\", \"Licenciado\", \"Estudiante\", \"PhD\"]\n",
        "pais"
      ],
      "execution_count": 27,
      "outputs": [
        {
          "output_type": "execute_result",
          "data": {
            "text/plain": [
              "['Ecuador', 'Perú', 'Brasil', 'Argentina']"
            ]
          },
          "metadata": {
            "tags": []
          },
          "execution_count": 27
        }
      ]
    },
    {
      "cell_type": "code",
      "metadata": {
        "id": "x5IFvsJK0g91",
        "outputId": "8cb5015a-ae9a-4a0d-d17b-c6ccfd438435",
        "colab": {
          "base_uri": "https://localhost:8080/"
        }
      },
      "source": [
        "data={\n",
        "     \"nombres\": nombres,\n",
        "      \"edad\" : edad,\n",
        "      \"pais\" : pais,\n",
        "      \"educación\" : educación\n",
        "}\n",
        "data"
      ],
      "execution_count": 26,
      "outputs": [
        {
          "output_type": "execute_result",
          "data": {
            "text/plain": [
              "{'edad': [22, 21, 23, 26],\n",
              " 'educación': ['Bachiller', 'Licenciado', 'Estudiante', 'PhD'],\n",
              " 'nombres': ['Rossmery', 'Susan', 'Kevin', 'Nicolas'],\n",
              " 'pais': ['Ecuador', 'Perú', 'Brasil', 'Argentina']}"
            ]
          },
          "metadata": {
            "tags": []
          },
          "execution_count": 26
        }
      ]
    },
    {
      "cell_type": "code",
      "metadata": {
        "id": "nSVsBqsw5M63",
        "outputId": "ac158aaf-e9e5-4cf6-a838-06f09c97a0db",
        "colab": {
          "base_uri": "https://localhost:8080/"
        }
      },
      "source": [
        "data={\n",
        "     \"nombres\": [\"Rossmery\", \"Susan\", \"Kevin\", \"Nicolas\"],\n",
        "      \"edad\" : [22, 21, 23, 26],\n",
        "      \"pais\" : [\"Ecuador\", \"Perú\", \"Brasil\", \"Argentina\"],\n",
        "      \"educación\" : [\"Bachiller\", \"Licenciado\", \"Estudiante\", \"PhD\"]\n",
        "}\n",
        "data"
      ],
      "execution_count": 28,
      "outputs": [
        {
          "output_type": "execute_result",
          "data": {
            "text/plain": [
              "{'edad': [22, 21, 23, 26],\n",
              " 'educación': ['Bachiller', 'Licenciado', 'Estudiante', 'PhD'],\n",
              " 'nombres': ['Rossmery', 'Susan', 'Kevin', 'Nicolas'],\n",
              " 'pais': ['Ecuador', 'Perú', 'Brasil', 'Argentina']}"
            ]
          },
          "metadata": {
            "tags": []
          },
          "execution_count": 28
        }
      ]
    },
    {
      "cell_type": "code",
      "metadata": {
        "id": "2CtlUEtU0g31",
        "outputId": "fe98263a-85ad-44a1-ad22-e0d7eba57e78",
        "colab": {
          "base_uri": "https://localhost:8080/",
          "height": 165
        }
      },
      "source": [
        "df_estudiantes = pd.DataFrame(data)\n",
        "print(df_estudiantes)\n",
        "df_estudiantes[df_estudiantes[\"nombres\"] == \"Nicolas\"]"
      ],
      "execution_count": 25,
      "outputs": [
        {
          "output_type": "stream",
          "text": [
            "    nombres  edad       pais   educación\n",
            "0  Rossmery    22    Ecuador   Bachiller\n",
            "1     Susan    21       Perú  Licenciado\n",
            "2     Kevin    23     Brasil  Estudiante\n",
            "3   Nicolas    26  Argentina         PhD\n"
          ],
          "name": "stdout"
        },
        {
          "output_type": "execute_result",
          "data": {
            "text/html": [
              "<div>\n",
              "<style scoped>\n",
              "    .dataframe tbody tr th:only-of-type {\n",
              "        vertical-align: middle;\n",
              "    }\n",
              "\n",
              "    .dataframe tbody tr th {\n",
              "        vertical-align: top;\n",
              "    }\n",
              "\n",
              "    .dataframe thead th {\n",
              "        text-align: right;\n",
              "    }\n",
              "</style>\n",
              "<table border=\"1\" class=\"dataframe\">\n",
              "  <thead>\n",
              "    <tr style=\"text-align: right;\">\n",
              "      <th></th>\n",
              "      <th>nombres</th>\n",
              "      <th>edad</th>\n",
              "      <th>pais</th>\n",
              "      <th>educación</th>\n",
              "    </tr>\n",
              "  </thead>\n",
              "  <tbody>\n",
              "    <tr>\n",
              "      <th>3</th>\n",
              "      <td>Nicolas</td>\n",
              "      <td>26</td>\n",
              "      <td>Argentina</td>\n",
              "      <td>PhD</td>\n",
              "    </tr>\n",
              "  </tbody>\n",
              "</table>\n",
              "</div>"
            ],
            "text/plain": [
              "   nombres  edad       pais educación\n",
              "3  Nicolas    26  Argentina       PhD"
            ]
          },
          "metadata": {
            "tags": []
          },
          "execution_count": 25
        }
      ]
    }
  ]
}