{
  "nbformat": 4,
  "nbformat_minor": 0,
  "metadata": {
    "colab": {
      "name": "Rossmery_Torres.ipynb",
      "provenance": [],
      "collapsed_sections": [],
      "include_colab_link": true
    },
    "kernelspec": {
      "name": "python3",
      "display_name": "Python 3"
    },
    "language_info": {
      "name": "python"
    }
  },
  "cells": [
    {
      "cell_type": "markdown",
      "metadata": {
        "id": "view-in-github",
        "colab_type": "text"
      },
      "source": [
        "<a href=\"https://colab.research.google.com/github/RossmeryTG/Curso_Phyton/blob/main/Sesi%C3%B3n%202.ipynb\" target=\"_parent\"><img src=\"https://colab.research.google.com/assets/colab-badge.svg\" alt=\"Open In Colab\"/></a>"
      ]
    },
    {
      "cell_type": "markdown",
      "metadata": {
        "id": "VifYYCiOneS0"
      },
      "source": [
        "Lista\n",
        "Usan llaves\n",
        "\n"
      ]
    },
    {
      "cell_type": "code",
      "metadata": {
        "id": "WRsEg95SmG8h",
        "colab": {
          "base_uri": "https://localhost:8080/"
        },
        "outputId": "2fa87eb3-4026-407d-a5b4-b4f1eb5c8231"
      },
      "source": [
        "#Crear una lista \n",
        "\n",
        "datos_personales = [\"Rossmery Torres\", 22, True, \"Lima\"]\n",
        "datos_personales\n",
        "print(datos_personales)"
      ],
      "execution_count": 2,
      "outputs": [
        {
          "output_type": "stream",
          "text": [
            "['Rossmery Torres', 22, True, 'Lima']\n"
          ],
          "name": "stdout"
        }
      ]
    },
    {
      "cell_type": "code",
      "metadata": {
        "id": "3vhr1C3tnbrM",
        "colab": {
          "base_uri": "https://localhost:8080/"
        },
        "outputId": "b73e4ed9-9bbe-4eb9-aecb-1e047c584cd8"
      },
      "source": [
        "#Verificando el tipo de datos de una varibale\n",
        "type(datos_personales)"
      ],
      "execution_count": 3,
      "outputs": [
        {
          "output_type": "execute_result",
          "data": {
            "text/plain": [
              "list"
            ]
          },
          "metadata": {
            "tags": []
          },
          "execution_count": 3
        }
      ]
    },
    {
      "cell_type": "code",
      "metadata": {
        "id": "iYY9Ee0XnvpW",
        "colab": {
          "base_uri": "https://localhost:8080/",
          "height": 35
        },
        "outputId": "260c0b17-d5f9-48de-ed6a-38b27f597645"
      },
      "source": [
        "#En Python se empieza con la posición 0\n",
        "nombre_apellido = datos_personales[0]\n",
        "nombre_apellido"
      ],
      "execution_count": 4,
      "outputs": [
        {
          "output_type": "execute_result",
          "data": {
            "application/vnd.google.colaboratory.intrinsic+json": {
              "type": "string"
            },
            "text/plain": [
              "'Rossmery Torres'"
            ]
          },
          "metadata": {
            "tags": []
          },
          "execution_count": 4
        }
      ]
    },
    {
      "cell_type": "code",
      "metadata": {
        "id": "kbd92m4An_7a",
        "colab": {
          "base_uri": "https://localhost:8080/",
          "height": 35
        },
        "outputId": "33987948-b8fe-459f-e440-05f61b327c61"
      },
      "source": [
        "departamento = datos_personales[3]\n",
        "departamento"
      ],
      "execution_count": null,
      "outputs": [
        {
          "output_type": "execute_result",
          "data": {
            "application/vnd.google.colaboratory.intrinsic+json": {
              "type": "string"
            },
            "text/plain": [
              "'Lima'"
            ]
          },
          "metadata": {
            "tags": []
          },
          "execution_count": 8
        }
      ]
    },
    {
      "cell_type": "code",
      "metadata": {
        "id": "2yOLYIlZoVzp",
        "colab": {
          "base_uri": "https://localhost:8080/"
        },
        "outputId": "b5b8dc3f-e6ee-4b77-f8aa-d2d6df5e9743"
      },
      "source": [
        "#Todo los elementos antes de la posición número 2\n",
        "datos_personales2 = datos_personales[:2]\n",
        "datos_personales2"
      ],
      "execution_count": 9,
      "outputs": [
        {
          "output_type": "execute_result",
          "data": {
            "text/plain": [
              "['Rossmery Torres', 22]"
            ]
          },
          "metadata": {
            "tags": []
          },
          "execution_count": 9
        }
      ]
    },
    {
      "cell_type": "code",
      "metadata": {
        "id": "Revk2JR8pywI",
        "colab": {
          "base_uri": "https://localhost:8080/"
        },
        "outputId": "b33dc2fa-7989-483f-d7fe-e449d8b3e94b"
      },
      "source": [
        "#El último elemento\n",
        "datos_personales2[-1]\n",
        "\n"
      ],
      "execution_count": 11,
      "outputs": [
        {
          "output_type": "execute_result",
          "data": {
            "text/plain": [
              "22"
            ]
          },
          "metadata": {
            "tags": []
          },
          "execution_count": 11
        }
      ]
    },
    {
      "cell_type": "code",
      "metadata": {
        "colab": {
          "base_uri": "https://localhost:8080/"
        },
        "id": "xY6f-p2XqbO3",
        "outputId": "088fab31-c7e6-4f5f-9f30-bd3244d33021"
      },
      "source": [
        "#El antepenúltimo elemento\n",
        "datos_personales[-2]"
      ],
      "execution_count": 12,
      "outputs": [
        {
          "output_type": "execute_result",
          "data": {
            "text/plain": [
              "True"
            ]
          },
          "metadata": {
            "tags": []
          },
          "execution_count": 12
        }
      ]
    },
    {
      "cell_type": "code",
      "metadata": {
        "id": "93KmkRWNqe03",
        "colab": {
          "base_uri": "https://localhost:8080/"
        },
        "outputId": "ef46a057-5c89-4904-f939-7ebdf366a753"
      },
      "source": [
        "#Un grupo de elementos en el medio\n",
        "datos_personales[1:3]"
      ],
      "execution_count": 13,
      "outputs": [
        {
          "output_type": "execute_result",
          "data": {
            "text/plain": [
              "[22, True]"
            ]
          },
          "metadata": {
            "tags": []
          },
          "execution_count": 13
        }
      ]
    },
    {
      "cell_type": "code",
      "metadata": {
        "colab": {
          "base_uri": "https://localhost:8080/"
        },
        "id": "5SpU5h9orN3B",
        "outputId": "a217f70b-38ed-4dd4-d0ec-b14cdc718cd3"
      },
      "source": [
        "#Todo los elementos después de la posición número 2\n",
        "datos_personales[1:]"
      ],
      "execution_count": 14,
      "outputs": [
        {
          "output_type": "execute_result",
          "data": {
            "text/plain": [
              "[22, True, 'Lima']"
            ]
          },
          "metadata": {
            "tags": []
          },
          "execution_count": 14
        }
      ]
    },
    {
      "cell_type": "code",
      "metadata": {
        "id": "gYXkByGCrTXf",
        "colab": {
          "base_uri": "https://localhost:8080/"
        },
        "outputId": "bb43d63a-1921-4de0-b0f8-fca27eb65f50"
      },
      "source": [
        "#Para cambiar/ actualizar los elementos\n",
        "#SI es posible actualizar las listas\n",
        "datos_personales[0]='Juan Salinas'\n",
        "datos_personales\n",
        "datos_personales[3]='Cuszo'\n",
        "datos_personales"
      ],
      "execution_count": null,
      "outputs": [
        {
          "output_type": "execute_result",
          "data": {
            "text/plain": [
              "['Juan Salinas', 22, True, 'Cuszo']"
            ]
          },
          "metadata": {
            "tags": []
          },
          "execution_count": 24
        }
      ]
    },
    {
      "cell_type": "markdown",
      "metadata": {
        "id": "MO9Sa6HDsDLK"
      },
      "source": [
        "Tupla\n",
        "Diferencia entre una lista y una tupla\n",
        "*   La lista puede modificar sus elementos \n",
        "*   La tupla no permite modificar sus elementos\n",
        "Para declarar una tupla se puede usar \n",
        "1.   ()\n",
        "2.   tupla()\n",
        "3.   nada\n",
        "\n",
        "\n"
      ]
    },
    {
      "cell_type": "code",
      "metadata": {
        "id": "XKuOIfO_sCy3",
        "colab": {
          "base_uri": "https://localhost:8080/"
        },
        "outputId": "d02d3ae7-81ce-447c-e3a8-4d0f22208b17"
      },
      "source": [
        "datos_personales_tupla = \"Rossmery Torres\", 18, True,\"Arequipa\"\n",
        "datos_personales_tupla\n",
        "\n"
      ],
      "execution_count": 15,
      "outputs": [
        {
          "output_type": "execute_result",
          "data": {
            "text/plain": [
              "('Rossmery Torres', 18, True, 'Arequipa')"
            ]
          },
          "metadata": {
            "tags": []
          },
          "execution_count": 15
        }
      ]
    },
    {
      "cell_type": "code",
      "metadata": {
        "id": "Xpou7UNrr_iW",
        "colab": {
          "base_uri": "https://localhost:8080/"
        },
        "outputId": "d3b2541c-3f98-45ef-a03b-fc61dba3e81e"
      },
      "source": [
        "#Verificando el tipo de datos de una varibale\n",
        "type(datos_personales_tupla)"
      ],
      "execution_count": 16,
      "outputs": [
        {
          "output_type": "execute_result",
          "data": {
            "text/plain": [
              "tuple"
            ]
          },
          "metadata": {
            "tags": []
          },
          "execution_count": 16
        }
      ]
    },
    {
      "cell_type": "code",
      "metadata": {
        "colab": {
          "base_uri": "https://localhost:8080/",
          "height": 35
        },
        "id": "pWsPE0gAtN2b",
        "outputId": "bbcc2d06-67ee-4b09-9190-8484bb50ea13"
      },
      "source": [
        "#La tupla se comporta como una lista\n",
        "nombre_tupla = datos_personales_tupla[0]\n",
        "nombre_tupla"
      ],
      "execution_count": 17,
      "outputs": [
        {
          "output_type": "execute_result",
          "data": {
            "application/vnd.google.colaboratory.intrinsic+json": {
              "type": "string"
            },
            "text/plain": [
              "'Rossmery Torres'"
            ]
          },
          "metadata": {
            "tags": []
          },
          "execution_count": 17
        }
      ]
    },
    {
      "cell_type": "code",
      "metadata": {
        "colab": {
          "base_uri": "https://localhost:8080/",
          "height": 163
        },
        "id": "4LS7Kcvot4_-",
        "outputId": "61f6094d-3f29-4ffd-95ea-9d5388ff3682"
      },
      "source": [
        "datos_personales_tupla[0] = \"Brany Garnique\""
      ],
      "execution_count": 18,
      "outputs": [
        {
          "output_type": "error",
          "ename": "TypeError",
          "evalue": "ignored",
          "traceback": [
            "\u001b[0;31m---------------------------------------------------------------------------\u001b[0m",
            "\u001b[0;31mTypeError\u001b[0m                                 Traceback (most recent call last)",
            "\u001b[0;32m<ipython-input-18-6b6737c4acd1>\u001b[0m in \u001b[0;36m<module>\u001b[0;34m()\u001b[0m\n\u001b[0;32m----> 1\u001b[0;31m \u001b[0mdatos_personales_tupla\u001b[0m\u001b[0;34m[\u001b[0m\u001b[0;36m0\u001b[0m\u001b[0;34m]\u001b[0m \u001b[0;34m=\u001b[0m \u001b[0;34m\"Brany Garnique\"\u001b[0m\u001b[0;34m\u001b[0m\u001b[0;34m\u001b[0m\u001b[0m\n\u001b[0m",
            "\u001b[0;31mTypeError\u001b[0m: 'tuple' object does not support item assignment"
          ]
        }
      ]
    },
    {
      "cell_type": "code",
      "metadata": {
        "id": "d0FkScOMumWa"
      },
      "source": [
        "#Tupla dentro de una tupla\n"
      ],
      "execution_count": null,
      "outputs": []
    },
    {
      "cell_type": "markdown",
      "metadata": {
        "id": "cY_tQ1OgvUO0"
      },
      "source": [
        "Diccionario\n",
        "*   Usan llaves\n",
        "\n",
        "\n"
      ]
    },
    {
      "cell_type": "code",
      "metadata": {
        "id": "7TL_YGcXxbpP",
        "colab": {
          "base_uri": "https://localhost:8080/"
        },
        "outputId": "9d491be1-0c0e-4698-aa8b-bdc785719565"
      },
      "source": [
        "datos_personales_diccioneario = { \n",
        "  \"nombre\"        : \"Rossmery Torres\",\n",
        "  \"edad\"          : 22,\n",
        "  \"es_estudiante\" : True,\n",
        "  \"departamento\"  : \"Cusco\"\n",
        "}\n",
        "datos_personales_diccioneario\n",
        "\n"
      ],
      "execution_count": 19,
      "outputs": [
        {
          "output_type": "execute_result",
          "data": {
            "text/plain": [
              "{'departamento': 'Cusco',\n",
              " 'edad': 22,\n",
              " 'es_estudiante': True,\n",
              " 'nombre': 'Rossmery Torres'}"
            ]
          },
          "metadata": {
            "tags": []
          },
          "execution_count": 19
        }
      ]
    },
    {
      "cell_type": "code",
      "metadata": {
        "colab": {
          "base_uri": "https://localhost:8080/"
        },
        "id": "7dFI4p1-vibE",
        "outputId": "bd8f3ed8-82ab-4ba7-9152-a9c5984b70ad"
      },
      "source": [
        "#Verificando el tipo de datos de una varibale\n",
        "type(datos_personales_diccioneario)"
      ],
      "execution_count": 20,
      "outputs": [
        {
          "output_type": "execute_result",
          "data": {
            "text/plain": [
              "dict"
            ]
          },
          "metadata": {
            "tags": []
          },
          "execution_count": 20
        }
      ]
    },
    {
      "cell_type": "code",
      "metadata": {
        "colab": {
          "base_uri": "https://localhost:8080/",
          "height": 35
        },
        "id": "F1ZetSxhv8OO",
        "outputId": "9b4c3acc-760b-42b8-9e6a-42d4b214897c"
      },
      "source": [
        "#Los query se hacen desde el encabezado\n",
        "datos_personales_diccioneario[\"nombre\"]"
      ],
      "execution_count": 22,
      "outputs": [
        {
          "output_type": "execute_result",
          "data": {
            "application/vnd.google.colaboratory.intrinsic+json": {
              "type": "string"
            },
            "text/plain": [
              "'Rossmery Torres'"
            ]
          },
          "metadata": {
            "tags": []
          },
          "execution_count": 22
        }
      ]
    },
    {
      "cell_type": "markdown",
      "metadata": {
        "id": "AXrXTYU_wLD7"
      },
      "source": [
        "DataFrame\n",
        "*   Tiene dos dimensiones\n",
        "*   Usa corchetes\n",
        "*   Es necesario llamar al paquete \"pandas\" para usar dataframes\n",
        "   \n",
        "\n",
        "\n"
      ]
    },
    {
      "cell_type": "code",
      "metadata": {
        "id": "djiIiLzBzsuu"
      },
      "source": [
        "import pandas as pd\n",
        "#Creando listas\n",
        "nombres   = [\"Rossmery\", \"Susan\", \"Kevin\", \"Nicolas\"]\n",
        "edad      = [22, 21, 23, 26]\n",
        "pais      = [\"Ecuador\", \"Perú\", \"Brasil\", \"Argentina\"]\n",
        "educación = [\"Bachiller\", \"Licenciado\", \"Estudiante\", \"PhD\"]\n",
        "#La posición 0 hace referencia al primer elemento de cada lsita\n",
        "#No deben tener espacio al inicio"
      ],
      "execution_count": 38,
      "outputs": []
    },
    {
      "cell_type": "code",
      "metadata": {
        "id": "_2Ar6FdV06Gx"
      },
      "source": [
        ""
      ],
      "execution_count": 36,
      "outputs": []
    },
    {
      "cell_type": "code",
      "metadata": {
        "colab": {
          "base_uri": "https://localhost:8080/"
        },
        "id": "lJyvOi_xxIBe",
        "outputId": "a3275e6e-3940-4e97-c585-6591bfe05b91"
      },
      "source": [
        "#Se puede hacer query\n",
        "pais"
      ],
      "execution_count": 32,
      "outputs": [
        {
          "output_type": "execute_result",
          "data": {
            "text/plain": [
              "['Ecuador', 'Perú', 'Brasil', 'Argentina']"
            ]
          },
          "metadata": {
            "tags": []
          },
          "execution_count": 32
        }
      ]
    },
    {
      "cell_type": "code",
      "metadata": {
        "id": "x5IFvsJK0g91",
        "colab": {
          "base_uri": "https://localhost:8080/"
        },
        "outputId": "a711152f-08ec-4219-d883-7fa2082eae23"
      },
      "source": [
        "data = {\n",
        "  \"nombres\"   : nombres,\n",
        "  \"edad\"      : edad,\n",
        "  \"pais\"      : pais,\n",
        "  \"educación\" : educación\n",
        "}\n",
        "data"
      ],
      "execution_count": 33,
      "outputs": [
        {
          "output_type": "execute_result",
          "data": {
            "text/plain": [
              "{'edad': [22, 21, 23, 26],\n",
              " 'educación': ['Bachiller', 'Licenciado', 'Estudiante', 'PhD'],\n",
              " 'nombres': ['Rossmery', 'Susan', 'Kevin', 'Nicolas'],\n",
              " 'pais': ['Ecuador', 'Perú', 'Brasil', 'Argentina']}"
            ]
          },
          "metadata": {
            "tags": []
          },
          "execution_count": 33
        }
      ]
    },
    {
      "cell_type": "code",
      "metadata": {
        "id": "MvUaHa3MyUpc"
      },
      "source": [
        "#Se puede crear un diccionario dentro de otro diccionario\n",
        "import pandas as pd\n",
        "#Creando listas\n",
        "nombres_2   = [\"Rossmery\", \"Susan\", \"Kevin\", \"Nicolas\"]\n",
        "edad_2      = [22, 21, 23, 26]\n",
        "pais_2      = [\"Ecuador\", \"Perú\", \"Brasil\", \"Argentina\"]\n",
        "educación_2 = [\"Bachiller\", \"Licenciado\", \"Estudiante\", \"PhD\"]\n",
        "genero      = { \n",
        "    \"sexo_1\" : \"masculino\",\n",
        "    \"sexo_2\" : \"femenino\" \n",
        "}"
      ],
      "execution_count": 42,
      "outputs": []
    },
    {
      "cell_type": "code",
      "metadata": {
        "id": "V9qRFaRl1L4V",
        "outputId": "30311ac2-5c40-4d18-afc6-43a62837b249",
        "colab": {
          "base_uri": "https://localhost:8080/"
        }
      },
      "source": [
        "data_2 = {\n",
        "  \"nombres_2\"   : nombres_2,\n",
        "  \"edad_2\"      : edad_2,\n",
        "  \"pais_2\"      : pais_2,\n",
        "  \"educación_2\" : educación_2,\n",
        "  \"genero_2\"    : genero\n",
        "}\n",
        "data_2"
      ],
      "execution_count": 47,
      "outputs": [
        {
          "output_type": "execute_result",
          "data": {
            "text/plain": [
              "{'edad_2': [22, 21, 23, 26],\n",
              " 'educación_2': ['Bachiller', 'Licenciado', 'Estudiante', 'PhD'],\n",
              " 'genero_2': {'sexo_1': 'masculino', 'sexo_2': 'femenino'},\n",
              " 'nombres_2': ['Rossmery', 'Susan', 'Kevin', 'Nicolas'],\n",
              " 'pais_2': ['Ecuador', 'Perú', 'Brasil', 'Argentina']}"
            ]
          },
          "metadata": {
            "tags": []
          },
          "execution_count": 47
        }
      ]
    },
    {
      "cell_type": "code",
      "metadata": {
        "id": "IFIb-Q7y2K4s",
        "outputId": "53bd2092-9c48-4a6b-ebeb-f028c1d80d61",
        "colab": {
          "base_uri": "https://localhost:8080/"
        }
      },
      "source": [
        "#Query de diccionario de diccionario\n",
        "data_2[\"genero_2\"]"
      ],
      "execution_count": 48,
      "outputs": [
        {
          "output_type": "execute_result",
          "data": {
            "text/plain": [
              "{'sexo_1': 'masculino', 'sexo_2': 'femenino'}"
            ]
          },
          "metadata": {
            "tags": []
          },
          "execution_count": 48
        }
      ]
    },
    {
      "cell_type": "code",
      "metadata": {
        "id": "cGVqfsN92dgv",
        "outputId": "16f8c722-7ea8-43fe-f037-32abd4239514",
        "colab": {
          "base_uri": "https://localhost:8080/",
          "height": 35
        }
      },
      "source": [
        "genero_2_1 = data_2[\"genero_2\"][\"sexo_1\"]\n",
        "genero_2_1"
      ],
      "execution_count": 54,
      "outputs": [
        {
          "output_type": "execute_result",
          "data": {
            "application/vnd.google.colaboratory.intrinsic+json": {
              "type": "string"
            },
            "text/plain": [
              "'masculino'"
            ]
          },
          "metadata": {
            "tags": []
          },
          "execution_count": 54
        }
      ]
    },
    {
      "cell_type": "code",
      "metadata": {
        "id": "2CtlUEtU0g31",
        "colab": {
          "base_uri": "https://localhost:8080/",
          "height": 173
        },
        "outputId": "64681d08-7e5f-4b21-f652-3c1ac8289dec"
      },
      "source": [
        "df_estudiantes = pd.DataFrame(data)\n",
        "df_estudiantes"
      ],
      "execution_count": 56,
      "outputs": [
        {
          "output_type": "execute_result",
          "data": {
            "text/html": [
              "<div>\n",
              "<style scoped>\n",
              "    .dataframe tbody tr th:only-of-type {\n",
              "        vertical-align: middle;\n",
              "    }\n",
              "\n",
              "    .dataframe tbody tr th {\n",
              "        vertical-align: top;\n",
              "    }\n",
              "\n",
              "    .dataframe thead th {\n",
              "        text-align: right;\n",
              "    }\n",
              "</style>\n",
              "<table border=\"1\" class=\"dataframe\">\n",
              "  <thead>\n",
              "    <tr style=\"text-align: right;\">\n",
              "      <th></th>\n",
              "      <th>nombres</th>\n",
              "      <th>edad</th>\n",
              "      <th>pais</th>\n",
              "      <th>educación</th>\n",
              "    </tr>\n",
              "  </thead>\n",
              "  <tbody>\n",
              "    <tr>\n",
              "      <th>0</th>\n",
              "      <td>Rossmery</td>\n",
              "      <td>22</td>\n",
              "      <td>Ecuador</td>\n",
              "      <td>Bachiller</td>\n",
              "    </tr>\n",
              "    <tr>\n",
              "      <th>1</th>\n",
              "      <td>Susan</td>\n",
              "      <td>21</td>\n",
              "      <td>Perú</td>\n",
              "      <td>Licenciado</td>\n",
              "    </tr>\n",
              "    <tr>\n",
              "      <th>2</th>\n",
              "      <td>Kevin</td>\n",
              "      <td>23</td>\n",
              "      <td>Brasil</td>\n",
              "      <td>Estudiante</td>\n",
              "    </tr>\n",
              "    <tr>\n",
              "      <th>3</th>\n",
              "      <td>Nicolas</td>\n",
              "      <td>26</td>\n",
              "      <td>Argentina</td>\n",
              "      <td>PhD</td>\n",
              "    </tr>\n",
              "  </tbody>\n",
              "</table>\n",
              "</div>"
            ],
            "text/plain": [
              "    nombres  edad       pais   educación\n",
              "0  Rossmery    22    Ecuador   Bachiller\n",
              "1     Susan    21       Perú  Licenciado\n",
              "2     Kevin    23     Brasil  Estudiante\n",
              "3   Nicolas    26  Argentina         PhD"
            ]
          },
          "metadata": {
            "tags": []
          },
          "execution_count": 56
        }
      ]
    },
    {
      "cell_type": "code",
      "metadata": {
        "id": "8McXccbl3gLl",
        "outputId": "0a111a2c-10c7-45c4-ea1b-dddd80955a2c",
        "colab": {
          "base_uri": "https://localhost:8080/",
          "height": 173
        }
      },
      "source": [
        "#Se pueden hacer querys\n",
        "#Se usan doble corchetes\n",
        "df_estudiantes[[\"edad\", \"pais\"]]"
      ],
      "execution_count": 59,
      "outputs": [
        {
          "output_type": "execute_result",
          "data": {
            "text/html": [
              "<div>\n",
              "<style scoped>\n",
              "    .dataframe tbody tr th:only-of-type {\n",
              "        vertical-align: middle;\n",
              "    }\n",
              "\n",
              "    .dataframe tbody tr th {\n",
              "        vertical-align: top;\n",
              "    }\n",
              "\n",
              "    .dataframe thead th {\n",
              "        text-align: right;\n",
              "    }\n",
              "</style>\n",
              "<table border=\"1\" class=\"dataframe\">\n",
              "  <thead>\n",
              "    <tr style=\"text-align: right;\">\n",
              "      <th></th>\n",
              "      <th>edad</th>\n",
              "      <th>pais</th>\n",
              "    </tr>\n",
              "  </thead>\n",
              "  <tbody>\n",
              "    <tr>\n",
              "      <th>0</th>\n",
              "      <td>22</td>\n",
              "      <td>Ecuador</td>\n",
              "    </tr>\n",
              "    <tr>\n",
              "      <th>1</th>\n",
              "      <td>21</td>\n",
              "      <td>Perú</td>\n",
              "    </tr>\n",
              "    <tr>\n",
              "      <th>2</th>\n",
              "      <td>23</td>\n",
              "      <td>Brasil</td>\n",
              "    </tr>\n",
              "    <tr>\n",
              "      <th>3</th>\n",
              "      <td>26</td>\n",
              "      <td>Argentina</td>\n",
              "    </tr>\n",
              "  </tbody>\n",
              "</table>\n",
              "</div>"
            ],
            "text/plain": [
              "   edad       pais\n",
              "0    22    Ecuador\n",
              "1    21       Perú\n",
              "2    23     Brasil\n",
              "3    26  Argentina"
            ]
          },
          "metadata": {
            "tags": []
          },
          "execution_count": 59
        }
      ]
    },
    {
      "cell_type": "code",
      "metadata": {
        "id": "OxM4D7573ydm",
        "outputId": "aab2621a-ed79-4e30-d1c5-f2816cf2ea61",
        "colab": {
          "base_uri": "https://localhost:8080/",
          "height": 80
        }
      },
      "source": [
        "df_estudiantes[df_estudiantes[\"nombres\"] == \"Nicolas\"]"
      ],
      "execution_count": 60,
      "outputs": [
        {
          "output_type": "execute_result",
          "data": {
            "text/html": [
              "<div>\n",
              "<style scoped>\n",
              "    .dataframe tbody tr th:only-of-type {\n",
              "        vertical-align: middle;\n",
              "    }\n",
              "\n",
              "    .dataframe tbody tr th {\n",
              "        vertical-align: top;\n",
              "    }\n",
              "\n",
              "    .dataframe thead th {\n",
              "        text-align: right;\n",
              "    }\n",
              "</style>\n",
              "<table border=\"1\" class=\"dataframe\">\n",
              "  <thead>\n",
              "    <tr style=\"text-align: right;\">\n",
              "      <th></th>\n",
              "      <th>nombres</th>\n",
              "      <th>edad</th>\n",
              "      <th>pais</th>\n",
              "      <th>educación</th>\n",
              "    </tr>\n",
              "  </thead>\n",
              "  <tbody>\n",
              "    <tr>\n",
              "      <th>3</th>\n",
              "      <td>Nicolas</td>\n",
              "      <td>26</td>\n",
              "      <td>Argentina</td>\n",
              "      <td>PhD</td>\n",
              "    </tr>\n",
              "  </tbody>\n",
              "</table>\n",
              "</div>"
            ],
            "text/plain": [
              "   nombres  edad       pais educación\n",
              "3  Nicolas    26  Argentina       PhD"
            ]
          },
          "metadata": {
            "tags": []
          },
          "execution_count": 60
        }
      ]
    },
    {
      "cell_type": "code",
      "metadata": {
        "id": "_Ay0_bk83dlp",
        "outputId": "f0fa88bb-a773-4d64-a6f2-b39bb6341a74",
        "colab": {
          "base_uri": "https://localhost:8080/"
        }
      },
      "source": [
        "print(df_estudiantes)\n"
      ],
      "execution_count": 61,
      "outputs": [
        {
          "output_type": "stream",
          "text": [
            "    nombres  edad       pais   educación\n",
            "0  Rossmery    22    Ecuador   Bachiller\n",
            "1     Susan    21       Perú  Licenciado\n",
            "2     Kevin    23     Brasil  Estudiante\n",
            "3   Nicolas    26  Argentina         PhD\n"
          ],
          "name": "stdout"
        }
      ]
    },
    {
      "cell_type": "markdown",
      "metadata": {
        "id": "rQin4f0D6MCM"
      },
      "source": [
        "PRÁCTICA CALIFICADA 01\n",
        "1.   Busque un personaje publico de su preferencia en wikipedia. Genere una variable con la url de la página.\n"
      ]
    },
    {
      "cell_type": "code",
      "metadata": {
        "id": "oMh_zF8S8Col",
        "outputId": "4adc6edb-9e0e-454f-ebc6-59f2b0dce409",
        "colab": {
          "base_uri": "https://localhost:8080/",
          "height": 35
        }
      },
      "source": [
        "URL = \"https://es.wikipedia.org/wiki/Elon_Musk\"\n",
        "URL"
      ],
      "execution_count": 62,
      "outputs": [
        {
          "output_type": "execute_result",
          "data": {
            "application/vnd.google.colaboratory.intrinsic+json": {
              "type": "string"
            },
            "text/plain": [
              "'https://es.wikipedia.org/wiki/Elon_Musk'"
            ]
          },
          "metadata": {
            "tags": []
          },
          "execution_count": 62
        }
      ]
    },
    {
      "cell_type": "markdown",
      "metadata": {
        "id": "x3RGxctT8wkK"
      },
      "source": [
        "2. Programar un diccionario de la manera más simple, teniendo distintos tipos de datos.(Minimo 20 campos)."
      ]
    },
    {
      "cell_type": "code",
      "metadata": {
        "id": "r0H0oSz09YVB",
        "outputId": "abe24115-3a3e-4094-c30e-3e22bccf28f1",
        "colab": {
          "base_uri": "https://localhost:8080/"
        }
      },
      "source": [
        "wikipedia = {\n",
        "  \"nombre\"              : \"Elon Musk\",\n",
        "  \"fecha de nacimiento\" : \"28 de junio de 1971\",\n",
        "  \"edad\"                : 49,\n",
        "  \"lugar de nacimiento\" : \"Pretoria, Sudáfrica\",\n",
        "  \"residencia\"          : \"Bel-Air\",\n",
        "  \"nacionalidad\"        : \"sudafricana, canadiense, estadounidense\",\n",
        "  \"lengua materna\"      : \"inglés\",\n",
        "  \"religión\"            : \"agnosticismo\",\n",
        "  \"padres\"              : \"Errol Musk, Maye Musk\",\n",
        "  \"hermanos\"            : \"Kimbal Musk, Tosca Musk​\",\n",
        "  \"conyugue\"            : \"Amber Heard\",\n",
        "  \"hijos\"               : 7,\n",
        "  \"universidad\"         : \"Universidad de Queen, Universidad Stanford, Universidad de Pensilvania, Wharton Business School\",\n",
        "  \"ocupación\"           : \"ingeniero aeroespacial, inventor, programador, ingeniero, emprendedor, actor\",\n",
        "  \"empresas\"            : \"PayPal, SpaceX, Hyperloop, SolarCity, The Boring Company, Neuralink, OpenAI\",\n",
        "  \"premios\"             : \"Honoris causa, Medalla de oro de la Royal Aeronautical Society, Miembro de la Royal Society\",\n",
        "  \"intereses\"           : \"política, aviones, cine, música\",\n",
        "  \"películas\"           : \"Iron Man 2, Trascendence\",\n",
        "  \"fortuna\"             : \"187 millones de dólares\"\n",
        "}\n",
        "wikipedia "
      ],
      "execution_count": 66,
      "outputs": [
        {
          "output_type": "execute_result",
          "data": {
            "text/plain": [
              "{'conyugue': 'Amber Heard',\n",
              " 'edad': 49,\n",
              " 'empresas': 'PayPal, SpaceX, Hyperloop, SolarCity, The Boring Company, Neuralink, OpenAI',\n",
              " 'fecha de nacimiento': '28 de junio de 1971',\n",
              " 'fortuna': '187 millones de dólares',\n",
              " 'hermanos': 'Kimbal Musk, Tosca Musk\\u200b',\n",
              " 'hijos': 7,\n",
              " 'intereses': 'política, aviones, cine, música',\n",
              " 'lengua materna': 'inglés',\n",
              " 'lugar de nacimiento': 'Pretoria, Sudáfrica',\n",
              " 'nacionalidad': 'sudafricana, canadiense, estadounidense',\n",
              " 'nombre': 'Elon Musk',\n",
              " 'ocupación': 'ingeniero aeroespacial, inventor, programador, ingeniero, emprendedor, actor',\n",
              " 'padres': 'Errol Musk, Maye Musk',\n",
              " 'películas': 'Iron Man 2, Trascendence',\n",
              " 'premios': 'Honoris causa, Medalla de oro de la Royal Aeronautical Society, Miembro de la Royal Society',\n",
              " 'religión': 'agnosticismo',\n",
              " 'residencia': 'Bel-Air',\n",
              " 'universidad': 'Universidad de Queen, Universidad Stanford, Universidad de Pensilvania, Wharton Business School'}"
            ]
          },
          "metadata": {
            "tags": []
          },
          "execution_count": 66
        }
      ]
    },
    {
      "cell_type": "markdown",
      "metadata": {
        "id": "-RiNB9zEFIH7"
      },
      "source": [
        "3. Programar luego un diccionario usando donde se pueda otras estructuras (listas, tuplas, diccionarios)."
      ]
    },
    {
      "cell_type": "code",
      "metadata": {
        "id": "vc0Sed9681nr",
        "outputId": "33db600d-e248-4668-ff68-a9e417fef74e",
        "colab": {
          "base_uri": "https://localhost:8080/"
        }
      },
      "source": [
        "nacionalidad = [\"sudafricana\", \"canadiense\", \"estadounidense\"]\n",
        "padres       = [\"Errol Musk\", \"Maye Musk\"]\n",
        "hermanos     = [\"Kimbal Musk\", \"Tosca Musk​\"]\n",
        "universidad  = [\"Universidad de Queen\", \"Universidad Stanford\", \"Universidad de Pensilvania\", \"Wharton Business School\"]\n",
        "ocupación    = [\"Ingeniero aeroespacial\", \"inventor\", \"programador\", \"ingeniero\", \"emprendedor\", \"actor\"]\n",
        "empresas     = [\"PayPal\", \"SpaceX\", \"Hyperloop\", \"SolarCity\", \"The Boring Company\", \"Neuralink\", \"OpenAI\"]\n",
        "premios      = [\"Honoris causa\", \"Medalla de oro de la Royal Aeronautical Society\", \"Miembro de la Royal Society\"]\n",
        "intereses    = [\"política\", \"aviones\", \"cine\", \"música\"]\n",
        "películas    = [\"Iron Man 2\", \"Trascendence\"]\n",
        "wikipedia = {\n",
        "  \"nombre\"              : \"Elon Musk\",\n",
        "  \"fecha de nacimiento\" : \"\t28 de junio de 1971\",\n",
        "  \"edad\"                : 49,\n",
        "  \"lugar de nacimiento\" : \"Pretoria, Sudáfrica\",\n",
        "  \"residencia\"          : \"Bel-Air\",\n",
        "  \"nacionalidad\"        : nacionalidad,\n",
        "  \"lengua materna\"      : \"Inglés\",\n",
        "  \"religión\"            : \"Agnosticismo\",\n",
        "  \"padres\"              : padres,\n",
        "  \"hermanos\"            : hermanos,\n",
        "  \"conyugue\"            : \"Amber Heard\",\n",
        "  \"hijos\"               : 7,\n",
        "  \"universidad\"         : universidad,\n",
        "  \"ocupación\"           : ocupación,\n",
        "  \"empresas\"            : empresas,\n",
        "  \"premios\"             : premios,\n",
        "  \"intereses\"           : intereses,\n",
        "  \"películas\"           : películas,\n",
        "  \"fortuna\"             : \"187 millones de dólares\"\n",
        "}\n",
        "wikipedia"
      ],
      "execution_count": 70,
      "outputs": [
        {
          "output_type": "execute_result",
          "data": {
            "text/plain": [
              "{'conyugue': 'Amber Heard',\n",
              " 'edad': 49,\n",
              " 'empresas': ['PayPal',\n",
              "  'SpaceX',\n",
              "  'Hyperloop',\n",
              "  'SolarCity',\n",
              "  'The Boring Company',\n",
              "  'Neuralink',\n",
              "  'OpenAI'],\n",
              " 'fecha de nacimiento': '\\t28 de junio de 1971',\n",
              " 'fortuna': '187 millones de dólares',\n",
              " 'hermanos': ['Kimbal Musk', 'Tosca Musk\\u200b'],\n",
              " 'hijos': 7,\n",
              " 'intereses': ['política', 'aviones', 'cine', 'música'],\n",
              " 'lengua materna': 'Inglés',\n",
              " 'lugar de nacimiento': 'Pretoria, Sudáfrica',\n",
              " 'nacionalidad': ['sudafricana', 'canadiense', 'estadounidense'],\n",
              " 'nombre': 'Elon Musk',\n",
              " 'ocupación': ['Ingeniero aeroespacial',\n",
              "  'inventor',\n",
              "  'programador',\n",
              "  'ingeniero',\n",
              "  'emprendedor',\n",
              "  'actor'],\n",
              " 'padres': ['Errol Musk', 'Maye Musk'],\n",
              " 'películas': ['Iron Man 2', 'Trascendence'],\n",
              " 'premios': ['Honoris causa',\n",
              "  'Medalla de oro de la Royal Aeronautical Society',\n",
              "  'Miembro de la Royal Society'],\n",
              " 'religión': 'Agnosticismo',\n",
              " 'residencia': 'Bel-Air',\n",
              " 'universidad': ['Universidad de Queen',\n",
              "  'Universidad Stanford',\n",
              "  'Universidad de Pensilvania',\n",
              "  'Wharton Business School']}"
            ]
          },
          "metadata": {
            "tags": []
          },
          "execution_count": 70
        }
      ]
    },
    {
      "cell_type": "code",
      "metadata": {
        "id": "i7PmWmi7M9QS",
        "outputId": "13616e6d-47cd-40bc-f805-ef7b831875a4",
        "colab": {
          "base_uri": "https://localhost:8080/"
        }
      },
      "source": [
        "empresas"
      ],
      "execution_count": 72,
      "outputs": [
        {
          "output_type": "execute_result",
          "data": {
            "text/plain": [
              "['PayPal',\n",
              " 'SpaceX',\n",
              " 'Hyperloop',\n",
              " 'SolarCity',\n",
              " 'The Boring Company',\n",
              " 'Neuralink',\n",
              " 'OpenAI']"
            ]
          },
          "metadata": {
            "tags": []
          },
          "execution_count": 72
        }
      ]
    },
    {
      "cell_type": "markdown",
      "metadata": {
        "id": "fGIwtyCnM9BA"
      },
      "source": [
        ""
      ]
    }
  ]
}