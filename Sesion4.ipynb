{
  "nbformat": 4,
  "nbformat_minor": 0,
  "metadata": {
    "colab": {
      "name": "Untitled1.ipynb",
      "provenance": [],
      "authorship_tag": "ABX9TyMGg9frW1g0Jq+Vui3IIwGN",
      "include_colab_link": true
    },
    "kernelspec": {
      "name": "python3",
      "display_name": "Python 3"
    },
    "language_info": {
      "name": "python"
    }
  },
  "cells": [
    {
      "cell_type": "markdown",
      "metadata": {
        "id": "view-in-github",
        "colab_type": "text"
      },
      "source": [
        "<a href=\"https://colab.research.google.com/github/RossmeryTG/Curso_Phyton/blob/main/Sesion4.ipynb\" target=\"_parent\"><img src=\"https://colab.research.google.com/assets/colab-badge.svg\" alt=\"Open In Colab\"/></a>"
      ]
    },
    {
      "cell_type": "code",
      "metadata": {
        "colab": {
          "base_uri": "https://localhost:8080/"
        },
        "id": "6cBS5do0UeNa",
        "outputId": "c0870be1-e152-4c9a-8f70-415f54055628"
      },
      "source": [
        "class Persona(object):\n",
        "  \"\"\"Clase que representa a una Persona\"\"\"\n",
        "\n",
        "  def __init__(self, cedula, nombre, apellido, sexo):\n",
        "      \"\"\"Constructor de clase Persona\"\"\"\n",
        "      self.cedula = cedula\n",
        "      self. nombre = nombre\n",
        "      self.apellido = apellido\n",
        "      self.sexo = sexo\n",
        "\n",
        "  def hablar(self, mensaje):\n",
        "      \"\"\"Mostrar mensake de saludo de Persona\"\"\"\n",
        "      return mensaje\n",
        "\n",
        "  def getGenero(self):\n",
        "    \"\"\"Mostrar el genero de la Persona\"\"\"\n",
        "    genero = (\"Masculino\", \"Femenino\")\n",
        "    if self.sexo == \"M\":\n",
        "        return genero [0]\n",
        "    elif self.sexo == \"F\":\n",
        "        return genero [1]\n",
        "    else:\n",
        "        return \"Desconocido\"\n",
        "    \n",
        "  def get_nombre_apellido(self):\n",
        "      return self.nombre + \" \" + self.apellido\n",
        "\n",
        "  def set_name(Self, nuevo_nombre):\n",
        "      self.nombre = nuevo_nombre\n",
        "\n",
        "variable_persona = Persona(52362102,\"Pedro\",\"Ruiz\",\"M\")            \n",
        "\n",
        "print(variable_persona.getGenero())\n",
        "print(variable_persona.getGenero())\n",
        "print(\"el nombre de la persona es:\", variable_persona.get_nombre_apellido())\n"
      ],
      "execution_count": null,
      "outputs": [
        {
          "output_type": "stream",
          "text": [
            "Masculino\n",
            "Masculino\n",
            "el nombre de la persona es: Pedro Ruiz\n"
          ],
          "name": "stdout"
        }
      ]
    },
    {
      "cell_type": "code",
      "metadata": {
        "id": "xFU3wPSaeEeO"
      },
      "source": [
        ""
      ],
      "execution_count": null,
      "outputs": []
    },
    {
      "cell_type": "code",
      "metadata": {
        "colab": {
          "base_uri": "https://localhost:8080/"
        },
        "id": "Z01oV9K9Z160",
        "outputId": "8d8f7169-79aa-4f7d-be03-68e8f6962efe"
      },
      "source": [
        "class Animal(object):\n",
        "  \"\"\"Clase que representa a un Animal\"\"\"\n",
        "  def __init__(self, tipo):\n",
        "      \"\"\"Constructor de clase Animal\"\"\"\n",
        "      self.tipo = tipo\n",
        "   \n",
        "  def getTipo(self):\n",
        "    \"\"\"Mostrar el tipo de Animal\"\"\"\n",
        "    return self.tipo\n",
        "\n",
        "  def getAlimentacion(self):\n",
        "    alimentacion = (\"omnivoro\", \"carroñero\", \"herbiboro\")\n",
        "    \"\"\"Mostrar el tipo de Animal\"\"\"\n",
        "    if self.tipo == \"Vaca\":\n",
        "        return alimentacion [2]\n",
        "    elif self.tipo == \"Perro\":\n",
        "        return alimentacion [0]\n",
        "    elif self.tipo == \"Buitre\":\n",
        "        return alimentacion [1]\n",
        "    else:\n",
        "        return \"Desconocido\"\n",
        "  \n",
        "  def getCantidad_patas(self):\n",
        "    cantidad_patas = (2, 4)\n",
        "    \"\"\"Mostrar el número de patas del Animal\"\"\"\n",
        "    if self.tipo == \"Vaca\":\n",
        "        return cantidad_patas [1]\n",
        "    elif self.tipo == \"Perro\":\n",
        "        return cantidad_patas [1]\n",
        "    elif self.tipo == \"Buitre\":\n",
        "        return cantidad_patas [0]\n",
        "    else:\n",
        "        return \"Desconocido\"\n",
        "\n",
        "  def getHabitad(self):\n",
        "    habitad = (\"acuatico\", \"terrestre\", \"aereo\")\n",
        "    \"\"\"Mostrar el habitad del Animal\"\"\"\n",
        "    if self.tipo == \"Vaca\":\n",
        "        return habitad [1]\n",
        "    elif self.tipo == \"Perro\":\n",
        "        return habitad [1]\n",
        "    elif self.tipo == \"Buitre\":\n",
        "        return habitad [2]\n",
        "    else:\n",
        "        return \"Desconocido\"\n",
        "\n",
        "variable_animal = Animal(\"Perro\")            \n",
        "\n",
        "print(\"Tipo: \", variable_animal.getTipo()) \n",
        "print(\"Alimentacion: \", variable_animal.getAlimentacion()) \n",
        "print(\"Cantidad de patas: \", variable_animal.getCantidad_patas())\n",
        "print(\"Cantidad de patas: \", variable_animal.getHabitad())"
      ],
      "execution_count": 22,
      "outputs": [
        {
          "output_type": "stream",
          "text": [
            "Tipo:  Perro\n",
            "Alimentacion:  omnivoro\n",
            "Cantidad de patas:  4\n",
            "Cantidad de patas:  terrestre\n"
          ],
          "name": "stdout"
        }
      ]
    },
    {
      "cell_type": "code",
      "metadata": {
        "id": "Pn5KhXH1e6AX"
      },
      "source": [
        "class Animal(object):\n",
        "  \"\"\"Clase que representa a un Animal\"\"\"\n",
        "\n",
        "  def __init__(self, tipo, alimentacion, num_patas, funciones):\n",
        "      \"\"\"Constructor de clase Persona\"\"\"\n",
        "      self.tipo = tipo\n",
        "      self.alimentacion = alimentacion\n",
        "      self.num_patas = num_patas\n",
        "      self.funciones = funciones\n",
        "\n",
        "  def getTipo(self):\n",
        "    \"\"\"Mostrar el tipo de Animal\"\"\"\n",
        "      return self.tipo\n",
        "\n",
        "  def getAlimentacion(self):\n",
        "    \"\"\"Mostrar el tipo de Animal\"\"\"\n",
        "    if self.alimentacion == \"omnivoro\":\n",
        "        return alimentacion [2]\n",
        "    elif self.tipo == \"Perro\":\n",
        "        return alimentacion [0]\n",
        "    elif self.tipo == \"Buitre\":\n",
        "        return alimentacion [2]\n",
        "    else:\n",
        "        return \"Desconocido\"\n",
        "  \n",
        "  def getCantidad_patas(self):\n",
        "    cantidad_patas = (2, 4)\n",
        "    \"\"\"Mostrar el número de patas del Animal\"\"\"\n",
        "    if self.tipo == \"Vaca\":\n",
        "        return cantidad_patas [1]\n",
        "    elif self.tipo == \"Perro\":\n",
        "        return cantidad_patas [1]\n",
        "    elif self.tipo == \"Buitre\":\n",
        "        return cantidad_patas [0]\n",
        "    else:\n",
        "        return \"Desconocido\"\n",
        "\n",
        "  def getHabitad(self):\n",
        "    habitad = (\"acuatico\", \"terrestre\", \"aereo\")\n",
        "    \"\"\"Mostrar el habitad del Animal\"\"\"\n",
        "    if self.tipo == \"Vaca\":\n",
        "        return habitad [1]\n",
        "    elif self.tipo == \"Perro\":\n",
        "        return habitad [1]\n",
        "    elif self.tipo == \"Buitre\":\n",
        "        return habitad [2]\n",
        "    else:\n",
        "        return \"Desconocido\"\n",
        "\n",
        "variable_animal = Animal(\"Perro\")            \n",
        "\n",
        "print(variable_animal.getHabitad())"
      ],
      "execution_count": null,
      "outputs": []
    }
  ]
}